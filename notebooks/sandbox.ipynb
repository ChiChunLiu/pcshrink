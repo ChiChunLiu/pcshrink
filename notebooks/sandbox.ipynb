{
 "cells": [
  {
   "cell_type": "markdown",
   "metadata": {},
   "source": [
    "Imports"
   ]
  },
  {
   "cell_type": "code",
   "execution_count": 1,
   "metadata": {},
   "outputs": [],
   "source": [
    "import numpy as np\n",
    "from sklearn.decomposition import PCA\n",
    "import matplotlib.pyplot as plt\n",
    "import scipy.stats as stats\n",
    "\n",
    "import pcshrink"
   ]
  },
  {
   "cell_type": "markdown",
   "metadata": {},
   "source": [
    "Read in the data"
   ]
  },
  {
   "cell_type": "code",
   "execution_count": 2,
   "metadata": {},
   "outputs": [
    {
     "name": "stdout",
     "output_type": "stream",
     "text": [
      "CPU times: user 7.52 s, sys: 2.21 s, total: 9.73 s\n",
      "Wall time: 3.91 s\n"
     ]
    }
   ],
   "source": [
    "%%time\n",
    "data = pcshrink.UnpackedAncestryMap(\"/project/jnovembre/jhmarcus/ancient-sardinia/data/ref_genotypes/7-11-2018/lazaridis_2014/data_fil\")"
   ]
  },
  {
   "cell_type": "code",
   "execution_count": 3,
   "metadata": {},
   "outputs": [
    {
     "name": "stdout",
     "output_type": "stream",
     "text": [
      "777 594924\n"
     ]
    }
   ],
   "source": [
    "print(data.n, data.p)"
   ]
  },
  {
   "cell_type": "markdown",
   "metadata": {},
   "source": [
    "Find snps that are too rare or too common"
   ]
  },
  {
   "cell_type": "code",
   "execution_count": 64,
   "metadata": {},
   "outputs": [
    {
     "name": "stdout",
     "output_type": "stream",
     "text": [
      "(594924,) (391417,)\n"
     ]
    }
   ],
   "source": [
    "f = np.nansum(data.Y, axis=1) / (2. * data.n)\n",
    "snp_idx = np.where((f > .05) & (f < .95))[0]\n",
    "print(f.shape, snp_idx.shape)"
   ]
  },
  {
   "cell_type": "markdown",
   "metadata": {},
   "source": [
    "Mean center and scale and impute missing values to 0"
   ]
  },
  {
   "cell_type": "code",
   "execution_count": 66,
   "metadata": {},
   "outputs": [],
   "source": [
    "Z = data.Y[snp_idx, :]\n",
    "\n",
    "mu = np.nanmean(Z, axis=1).reshape(len(snp_idx), 1)\n",
    "std = np.nanstd(Z, axis=1).reshape(len(snp_idx), 1)\n",
    "het = np.sqrt(2. * f[snp_idx] * (1. - f[snp_idx])).reshape(len(snp_idx), 1)\n",
    "\n",
    "Z = (Z - mu) / het\n",
    "Z[np.isnan(Z)] = 0.0"
   ]
  },
  {
   "cell_type": "code",
   "execution_count": 67,
   "metadata": {},
   "outputs": [
    {
     "data": {
      "text/plain": [
       "<matplotlib.collections.PathCollection at 0x7fc13c57d978>"
      ]
     },
     "execution_count": 67,
     "metadata": {},
     "output_type": "execute_result"
    },
    {
     "data": {
      "image/png": "[encoded data removed]",
      "text/plain": [
       "<Figure size 432x288 with 1 Axes>"
      ]
     },
     "metadata": {},
     "output_type": "display_data"
    }
   ],
   "source": [
    "plt.scatter(het, std)"
   ]
  },
  {
   "cell_type": "markdown",
   "metadata": {},
   "source": [
    "Run PCA on the original dataset"
   ]
  },
  {
   "cell_type": "code",
   "execution_count": 68,
   "metadata": {},
   "outputs": [
    {
     "name": "stdout",
     "output_type": "stream",
     "text": [
      "CPU times: user 2min 16s, sys: 13 s, total: 2min 29s\n",
      "Wall time: 8.05 s\n"
     ]
    }
   ],
   "source": [
    "%%time\n",
    "pca = PCA(20, svd_solver=\"full\")\n",
    "pca.fit(Z.T)"
   ]
  },
  {
   "cell_type": "code",
   "execution_count": 85,
   "metadata": {},
   "outputs": [
    {
     "data": {
      "text/plain": [
       "array([0.19483185, 0.0893572 , 0.06821097, 0.05159962, 0.04830065,\n",
       "       0.04355943, 0.0410076 , 0.03974637, 0.03923142, 0.03762263,\n",
       "       0.03679093, 0.03631968, 0.03600083, 0.03510952, 0.03425192,\n",
       "       0.03403273, 0.03364398, 0.03357579, 0.03350829, 0.03329853],\n",
       "      dtype=float32)"
      ]
     },
     "execution_count": 85,
     "metadata": {},
     "output_type": "execute_result"
    }
   ],
   "source": [
    "pca.singular_values_**2 / np.sum(pca.singular_values_**2)"
   ]
  },
  {
   "cell_type": "code",
   "execution_count": 69,
   "metadata": {},
   "outputs": [
    {
     "data": {
      "text/plain": [
       "(391417, 20)"
      ]
     },
     "execution_count": 69,
     "metadata": {},
     "output_type": "execute_result"
    }
   ],
   "source": [
    "F_hat = pca.components_.T\n",
    "F_hat.shape"
   ]
  },
  {
   "cell_type": "code",
   "execution_count": 79,
   "metadata": {},
   "outputs": [],
   "source": [
    "L = (F_hat.T @ Z).T \n",
    "L = L / np.linalg.norm(L, axis=0, ord=2)"
   ]
  },
  {
   "cell_type": "code",
   "execution_count": 80,
   "metadata": {},
   "outputs": [
    {
     "data": {
      "text/plain": [
       "<matplotlib.collections.PathCollection at 0x7fc13c40e630>"
      ]
     },
     "execution_count": 80,
     "metadata": {},
     "output_type": "execute_result"
    },
    {
     "data": {
      "image/png": "[encoded data removed]",
      "text/plain": [
       "<Figure size 432x288 with 1 Axes>"
      ]
     },
     "metadata": {},
     "output_type": "display_data"
    }
   ],
   "source": [
    "plt.scatter(L[:, 0], -L[:, 1])"
   ]
  },
  {
   "cell_type": "markdown",
   "metadata": {},
   "source": [
    "See how fast the EM is ..."
   ]
  },
  {
   "cell_type": "code",
   "execution_count": 18,
   "metadata": {},
   "outputs": [
    {
     "name": "stdout",
     "output_type": "stream",
     "text": [
      "1 16836.205 inf\n",
      "2 16832.508 3.6972656\n",
      "3 16829.775 2.7324219\n",
      "4 16827.719 2.0566406\n",
      "5 16826.125 1.59375\n",
      "6 16824.879 1.2460938\n",
      "7 16823.879 1.0\n",
      "8 16823.06 0.8183594\n",
      "9 16822.383 0.6777344\n",
      "10 16821.807 0.5761719\n",
      "11 16821.322 0.484375\n",
      "12 16820.904 0.41796875\n",
      "13 16820.543 0.36132812\n",
      "14 16820.223 0.3203125\n",
      "15 16819.94 0.28320312\n",
      "16 16819.688 0.25195312\n",
      "17 16819.463 0.22460938\n",
      "18 16819.266 0.19726562\n",
      "19 16819.086 0.1796875\n",
      "20 16818.92 0.16601562\n",
      "21 16818.77 0.15039062\n",
      "22 16818.633 0.13671875\n",
      "23 16818.508 0.125\n",
      "24 16818.395 0.11328125\n",
      "25 16818.287 0.107421875\n",
      "26 16818.186 0.1015625\n",
      "27 16818.1 0.0859375\n",
      "28 16818.014 0.0859375\n",
      "29 16817.934 0.080078125\n",
      "30 16817.86 0.07421875\n",
      "31 16817.793 0.06640625\n",
      "32 16817.729 0.064453125\n",
      "33 16817.67 0.05859375\n",
      "34 16817.611 0.05859375\n",
      "35 16817.557 0.0546875\n",
      "36 16817.508 0.048828125\n",
      "37 16817.457 0.05078125\n",
      "38 16817.414 0.04296875\n",
      "39 16817.37 0.044921875\n",
      "40 16817.33 0.0390625\n",
      "41 16817.291 0.0390625\n",
      "42 16817.256 0.03515625\n",
      "43 16817.219 0.037109375\n",
      "44 16817.186 0.033203125\n",
      "45 16817.154 0.03125\n",
      "46 16817.125 0.029296875\n",
      "47 16817.1 0.025390625\n",
      "48 16817.072 0.02734375\n",
      "49 16817.043 0.029296875\n",
      "50 16817.018 0.025390625\n",
      "51 16816.996 0.021484375\n",
      "52 16816.977 0.01953125\n",
      "53 16816.955 0.021484375\n",
      "54 16816.934 0.021484375\n",
      "55 16816.91 0.0234375\n",
      "56 16816.895 0.015625\n",
      "57 16816.877 0.017578125\n",
      "58 16816.857 0.01953125\n",
      "59 16816.842 0.015625\n",
      "60 16816.828 0.013671875\n",
      "61 16816.812 0.015625\n",
      "62 16816.797 0.015625\n",
      "63 16816.781 0.015625\n",
      "64 16816.768 0.013671875\n",
      "65 16816.758 0.009765625\n",
      "66 16816.744 0.013671875\n",
      "67 16816.734 0.009765625\n",
      "68 16816.719 0.015625\n",
      "69 16816.707 0.01171875\n",
      "70 16816.7 0.0078125\n",
      "71 16816.69 0.009765625\n",
      "72 16816.676 0.013671875\n",
      "73 16816.668 0.0078125\n",
      "74 16816.656 0.01171875\n",
      "75 16816.646 0.009765625\n",
      "76 16816.639 0.0078125\n",
      "77 16816.63 0.0078125\n",
      "78 16816.623 0.0078125\n",
      "79 16816.617 0.005859375\n",
      "80 16816.607 0.009765625\n",
      "81 16816.604 0.00390625\n",
      "82 16816.598 0.005859375\n",
      "83 16816.588 0.009765625\n",
      "84 16816.582 0.005859375\n",
      "85 16816.574 0.0078125\n",
      "86 16816.568 0.005859375\n",
      "87 16816.562 0.005859375\n",
      "88 16816.555 0.0078125\n",
      "89 16816.55 0.00390625\n",
      "90 16816.543 0.0078125\n",
      "91 16816.54 0.00390625\n",
      "92 16816.535 0.00390625\n",
      "93 16816.527 0.0078125\n",
      "94 16816.525 0.001953125\n",
      "95 16816.521 0.00390625\n",
      "96 16816.518 0.00390625\n",
      "97 16816.514 0.00390625\n",
      "98 16816.51 0.00390625\n",
      "99 16816.506 0.00390625\n",
      "100 16816.498 0.0078125\n",
      "101 16816.496 0.001953125\n",
      "CPU times: user 35min 19s, sys: 4min, total: 39min 19s\n",
      "Wall time: 4min 55s\n"
     ]
    }
   ],
   "source": [
    "%%time\n",
    "idx = np.ones(Z.shape[1], dtype=\"bool\")\n",
    "idx[0] = False\n",
    "pcem = pcshrink.PCEM(Z[:, idx], F_hat)\n",
    "pcem.run(eps=1e-5, max_iter=100)"
   ]
  },
  {
   "cell_type": "code",
   "execution_count": 19,
   "metadata": {},
   "outputs": [
    {
     "data": {
      "text/plain": [
       "<matplotlib.collections.PathCollection at 0x7fc13dac8668>"
      ]
     },
     "execution_count": 19,
     "metadata": {},
     "output_type": "execute_result"
    },
    {
     "data": {
      "image/png": "[encoded data removed]",
      "text/plain": [
       "<Figure size 432x288 with 1 Axes>"
      ]
     },
     "metadata": {},
     "output_type": "display_data"
    }
   ],
   "source": [
    "plt.scatter(pcem.L[:,0], -pcem.L[:,1])"
   ]
  },
  {
   "cell_type": "code",
   "execution_count": 20,
   "metadata": {},
   "outputs": [],
   "source": [
    "l = Z[:, 0] @ pcem.F"
   ]
  },
  {
   "cell_type": "code",
   "execution_count": 21,
   "metadata": {},
   "outputs": [
    {
     "data": {
      "text/plain": [
       "Text(0,0.5,'l_proj')"
      ]
     },
     "execution_count": 21,
     "metadata": {},
     "output_type": "execute_result"
    },
    {
     "data": {
      "image/png": "[encoded data removed]",
      "text/plain": [
       "<Figure size 432x288 with 1 Axes>"
      ]
     },
     "metadata": {},
     "output_type": "display_data"
    }
   ],
   "source": [
    "plt.scatter(L[0, :], l)\n",
    "plt.xlim(-20, 20)\n",
    "plt.ylim(-20, 20)\n",
    "plt.xlabel(\"l\")\n",
    "plt.ylabel(\"l_proj\")"
   ]
  },
  {
   "cell_type": "code",
   "execution_count": null,
   "metadata": {},
   "outputs": [],
   "source": []
  }
 ],
 "metadata": {
  "kernelspec": {
   "display_name": "Python 3",
   "language": "python",
   "name": "python3"
  },
  "language_info": {
   "codemirror_mode": {
    "name": "ipython",
    "version": 3
   },
   "file_extension": ".py",
   "mimetype": "text/x-python",
   "name": "python",
   "nbconvert_exporter": "python",
   "pygments_lexer": "ipython3",
   "version": "3.6.6"
  }
 },
 "nbformat": 4,
 "nbformat_minor": 2
}
