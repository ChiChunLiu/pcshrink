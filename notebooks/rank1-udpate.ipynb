{
 "cells": [
  {
   "cell_type": "markdown",
   "metadata": {},
   "source": [
    "# Imports"
   ]
  },
  {
   "cell_type": "code",
   "execution_count": 1,
   "metadata": {},
   "outputs": [],
   "source": [
    "import numpy as np\n",
    "import matplotlib.pyplot as plt\n",
    "from matplotlib import collections as mc\n",
    "import pandas as pd\n",
    "from scipy.sparse.linalg import svds\n",
    "from sklearn.utils.extmath import svd_flip\n",
    "\n",
    "import pcshrink"
   ]
  },
  {
   "cell_type": "markdown",
   "metadata": {},
   "source": [
    "# Data prep"
   ]
  },
  {
   "cell_type": "markdown",
   "metadata": {},
   "source": [
    "Read in the human origins west eurasian data"
   ]
  },
  {
   "cell_type": "code",
   "execution_count": 2,
   "metadata": {},
   "outputs": [
    {
     "name": "stdout",
     "output_type": "stream",
     "text": [
      "CPU times: user 7.05 s, sys: 2.49 s, total: 9.53 s\n",
      "Wall time: 7.92 s\n"
     ]
    }
   ],
   "source": [
    "%%time\n",
    "data = pcshrink.UnpackedAncestryMap(\"/project/jnovembre/jhmarcus/ancient-sardinia/data/ref_genotypes/7-11-2018/lazaridis_2014/data_fil\")"
   ]
  },
  {
   "cell_type": "code",
   "execution_count": 3,
   "metadata": {},
   "outputs": [
    {
     "name": "stdout",
     "output_type": "stream",
     "text": [
      "594924 777\n"
     ]
    }
   ],
   "source": [
    "Y = data.Y\n",
    "p, n = Y.shape\n",
    "print(p, n)"
   ]
  },
  {
   "cell_type": "markdown",
   "metadata": {},
   "source": [
    "Find snps that are too rare or too common"
   ]
  },
  {
   "cell_type": "code",
   "execution_count": 4,
   "metadata": {},
   "outputs": [
    {
     "name": "stdout",
     "output_type": "stream",
     "text": [
      "(594924,) (426765,)\n"
     ]
    }
   ],
   "source": [
    "# use allele frequency estimator from Price et al. 2006\n",
    "f = (1. + np.nansum(Y, axis=1)) / (2 + (2. * n))\n",
    "\n",
    "# keep snps that aren't too rare or common\n",
    "snp_idx = np.where((f > .02) & (f < .98))[0]\n",
    "print(f.shape, snp_idx.shape)"
   ]
  },
  {
   "cell_type": "markdown",
   "metadata": {},
   "source": [
    "Mean center and scale and impute missing values to 0"
   ]
  },
  {
   "cell_type": "code",
   "execution_count": 5,
   "metadata": {},
   "outputs": [],
   "source": [
    "Z = Y[snp_idx, :]\n",
    "\n",
    "# mean genotype \n",
    "mu = np.nanmean(Z, axis=1).reshape(len(snp_idx), 1)\n",
    "\n",
    "# empirical std deviation\n",
    "std = np.nanstd(Z, axis=1).reshape(len(snp_idx), 1)\n",
    "\n",
    "# heterozygosity scaler\n",
    "het = np.sqrt(2. * f[snp_idx] * (1. - f[snp_idx])).reshape(len(snp_idx), 1)\n",
    "\n",
    "Z = (Z - mu) / het\n",
    "Z[np.isnan(Z)] = 0.0"
   ]
  },
  {
   "cell_type": "markdown",
   "metadata": {},
   "source": [
    "# Rank 1"
   ]
  },
  {
   "cell_type": "code",
   "execution_count": 7,
   "metadata": {},
   "outputs": [],
   "source": [
    "i = -1\n",
    "b = np.zeros(n).reshape(-1, 1)\n",
    "b[i] = 1\n",
    "\n",
    "a = -Z[:,i].reshape(-1, 1)"
   ]
  },
  {
   "cell_type": "code",
   "execution_count": 25,
   "metadata": {},
   "outputs": [
    {
     "name": "stdout",
     "output_type": "stream",
     "text": [
      "CPU times: user 1min 7s, sys: 3.22 s, total: 1min 10s\n",
      "Wall time: 3.78 s\n"
     ]
    }
   ],
   "source": [
    "%%time\n",
    "k = 10\n",
    "U, S, VT = svds(Z, k)\n",
    "V = VT.T\n",
    "S = np.diag(S)\n",
    "Up, Sp, Vp = svdUpdate(U, S, V, a, b)\n",
    "Up = np.array(Up)\n",
    "Sp = np.array(Sp)\n",
    "Vp = np.array(Vp)\n",
    "\n",
    "U, VT = svd_flip(U[:, ::-1], VT[::-1])\n",
    "Up, VpT = svd_flip(U[:, ::-1], Vp.T[::-1])\n",
    "\n",
    "F = U @ S\n",
    "F = F / np.linalg.norm(F, axis=0, ord=2)\n",
    "Fp = Up @ Sp\n",
    "Fp = Fp / np.linalg.norm(Fp, axis=0, ord=2)\n",
    "\n",
    "L = (Fp.T @ Z).T"
   ]
  },
  {
   "cell_type": "code",
   "execution_count": 22,
   "metadata": {},
   "outputs": [
    {
     "data": {
      "text/plain": [
       "(777,)"
      ]
     },
     "execution_count": 22,
     "metadata": {},
     "output_type": "execute_result"
    }
   ],
   "source": [
    "L.shape"
   ]
  },
  {
   "cell_type": "code",
   "execution_count": 26,
   "metadata": {},
   "outputs": [
    {
     "data": {
      "text/plain": [
       "<matplotlib.collections.PathCollection at 0x7fe582960390>"
      ]
     },
     "execution_count": 26,
     "metadata": {},
     "output_type": "execute_result"
    },
    {
     "data": {
      "image/png": "[encoded data removed]",
      "text/plain": [
       "<Figure size 432x288 with 1 Axes>"
      ]
     },
     "metadata": {},
     "output_type": "display_data"
    }
   ],
   "source": [
    "plt.scatter(L[:, 0], L[:, 1])"
   ]
  },
  {
   "cell_type": "code",
   "execution_count": null,
   "metadata": {},
   "outputs": [],
   "source": [
    "#m = U.T @ a\n",
    "#p = a - (U @ m)\n",
    "#R_a = np.sqrt(p.T @ p)\n",
    "#P = (1.0 / R_a) * p\n",
    "    \n",
    "#n = V.T @ b\n",
    "#q = b - (V @ n)\n",
    "#R_b = np.sqrt(q.T @ q)\n",
    "#Q = (1. / R_b) * q"
   ]
  },
  {
   "cell_type": "code",
   "execution_count": null,
   "metadata": {},
   "outputs": [],
   "source": [
    "#K = np.array(np.diag(list(np.diag(S)) + [0.0])) + np.bmat('m ; R_a') * np.bmat('n ; R_b').T\n",
    "#u, s, vt = np.linalg.svd(K, full_matrices = False)\n",
    "\n",
    "#tUp = np.array(u[:, :k])\n",
    "#tVp = np.array(vt.T[:, :k])\n",
    "#tSp = np.diag(s[:k])"
   ]
  },
  {
   "cell_type": "code",
   "execution_count": null,
   "metadata": {},
   "outputs": [],
   "source": [
    "#Up = np.hstack([U, P]) @ tUp\n",
    "#VpT = tVp.T @ np.hstack([V, Q]).T \n",
    "#Up, VpT = svd_flip(Up[:, ::-1], VpT[::-1])\n",
    "#F_proj = Up @ S\n",
    "#F_proj = F_proj / np.linalg.norm(F_proj, axis=0, ord=2)"
   ]
  },
  {
   "cell_type": "code",
   "execution_count": null,
   "metadata": {},
   "outputs": [],
   "source": [
    "#l = (F_proj.T @ Z).T\n",
    "#l.shape"
   ]
  },
  {
   "cell_type": "code",
   "execution_count": null,
   "metadata": {},
   "outputs": [],
   "source": [
    "plt.scatter(L[:, 0], L[:, 1])\n",
    "plt.scatter(-l[:,0], l[:,1], color = \"purple\")\n",
    "plt.scatter(L[i, 0], L[i, 1], color=\"red\")"
   ]
  },
  {
   "cell_type": "code",
   "execution_count": 9,
   "metadata": {},
   "outputs": [],
   "source": [
    "def svdUpdate(U, S, V, a, b):\n",
    "    \n",
    "    S = np.asmatrix(S)\n",
    "    U = np.asmatrix(U)\n",
    "    V = np.asmatrix(V)\n",
    "    a = np.asmatrix(a).reshape(a.size, 1)\n",
    "    b = np.asmatrix(b).reshape(b.size, 1)\n",
    "    \n",
    "    rank = S.shape[0]\n",
    "    \n",
    "    # eq (6)\n",
    "    m = U.T * a\n",
    "    p = a - U * m\n",
    "    Ra = np.sqrt(p.T * p)\n",
    "    P = (1.0 / float(Ra)) * p\n",
    "    \n",
    "    # eq (7)\n",
    "    n = V.T * b\n",
    "    q = b - V * n\n",
    "    Rb = np.sqrt(q.T * q)\n",
    "    Q = (1.0 / float(Rb)) * q\n",
    "    \n",
    "    # eq (8)\n",
    "    K = np.matrix(np.diag(list(np.diag(S)) + [0.0])) + np.bmat('m ; Ra') * np.bmat('n ; Rb').T\n",
    "    \n",
    "    # eq (5)\n",
    "    u, s, vt = np.linalg.svd(K, full_matrices = False)\n",
    "    tUp = np.matrix(u[:, :rank])\n",
    "    tVp = np.matrix(vt.T[:, :rank])\n",
    "    tSp = np.matrix(np.diag(s[: rank]))\n",
    "    Up = np.bmat('U P') * tUp\n",
    "    Vp = np.bmat('V Q') * tVp\n",
    "    Sp = tSp\n",
    "    \n",
    "    return Up, Sp, Vp"
   ]
  },
  {
   "cell_type": "markdown",
   "metadata": {},
   "source": [
    "----"
   ]
  },
  {
   "cell_type": "code",
   "execution_count": null,
   "metadata": {},
   "outputs": [],
   "source": [
    "%%time\n",
    "cor.jackknife(5, 25)"
   ]
  },
  {
   "cell_type": "code",
   "execution_count": null,
   "metadata": {},
   "outputs": [],
   "source": [
    "plt.scatter(cor.L[:, 0], cor.L[:, 1])\n",
    "plt.scatter(cor.L_shrunk[:, 0], cor.L_shrunk[:, 1], color=\"green\")"
   ]
  },
  {
   "cell_type": "code",
   "execution_count": null,
   "metadata": {},
   "outputs": [],
   "source": [
    "cor.V.shape"
   ]
  },
  {
   "cell_type": "markdown",
   "metadata": {},
   "source": [
    "def _svd_rank1(Y, U, S, V, n, p, k, i):\n",
    "    \"\"\"\n",
    "    \"\"\"\n",
    "    \n",
    "    print(n, p)\n",
    "    a = -Y[:, i].reshape(p, 1)\n",
    "    b = np.zeros(n).reshape(n, 1)\n",
    "    b[i] = 1\n",
    "\n",
    "    m = U.T @ a\n",
    "    p = a - (U @ m)\n",
    "    R_a = np.sqrt(p.T @ p)\n",
    "    P = (1. / R_a) * p\n",
    "\n",
    "    n = V.T @ b\n",
    "    q = b - (V @ n)\n",
    "    R_b = np.sqrt(q.T @ q)\n",
    "    Q = (1. / R_b) * q\n",
    "    \n",
    "    K_0 = np.zeros((S.shape[0] + 1, S.shape[0] + 1))\n",
    "    K_0[:-1, :-1] = S\n",
    "    K_1 = np.append(m, R_a).reshape(-1, 1) @ np.append(n, R_b).reshape(1, -1)\n",
    "    K = K_0 + K_1\n",
    "\n",
    "    tUp, tSp, tVpT = svds(K, k)\n",
    "    tUp, tVpT = svd_flip(tUp[:, ::-1], tVpT[::-1])\n",
    "    tVp = tVpT.T\n",
    "    \n",
    "    print(U.shape, P.shape)\n",
    "    print(a.shape, b.shape)\n",
    "    print(V.shape, Q.shape, P.shape)\n",
    "\n",
    "    Up = np.hstack([U, P]) @ tUp\n",
    "    Sp = np.diag(tSp)\n",
    "    Vp = np.hstack([V, Q]) @ tVp\n",
    "\n",
    "    return((Up, Sp, Vp))"
   ]
  },
  {
   "cell_type": "markdown",
   "metadata": {},
   "source": [
    "_svd_rank1(Z, cor.U, cor.S, cor.V, cor.n, cor.p, cor.k, 1)"
   ]
  },
  {
   "cell_type": "markdown",
   "metadata": {},
   "source": [
    "cor.V.shape"
   ]
  },
  {
   "cell_type": "code",
   "execution_count": null,
   "metadata": {},
   "outputs": [],
   "source": [
    "def svdUpdate(U, S, V, a, b):\n",
    "    \"\"\"\n",
    "    Update SVD of an (m x n) matrix `X = U * S * V^T` so that\n",
    "    `[X + a * b^T] = U' * S' * V'^T`\n",
    "    and return `U'`, `S'`, `V'`.\n",
    "    \n",
    "    The original matrix X is not needed at all, so this function implements one-pass\n",
    "    streaming rank-1 updates to an existing decomposition. \n",
    "    \n",
    "    `a` and `b` are (m, 1) and (n, 1) matrices.\n",
    "    \n",
    "    You can set V to None if you're not interested in the right singular\n",
    "    vectors. In that case, the returned V' will also be None (saves memory).\n",
    "    \n",
    "    The blocked merge algorithm in LsiModel.addDocuments() is much faster; I keep this fnc here\n",
    "    purely for backup reasons.\n",
    "    This is the rank-1 update as described in\n",
    "    **Brand, 2006: Fast low-rank modifications of the thin singular value decomposition**,\n",
    "    but without separating the basis from rotations.\n",
    "    \"\"\"\n",
    "    # convert input to matrices (no copies of data made if already numpy.ndarray or numpy.matrix)\n",
    "    S = numpy.asmatrix(S)\n",
    "    U = numpy.asmatrix(U)\n",
    "    if V is not None:\n",
    "        V = numpy.asmatrix(V)\n",
    "    a = numpy.asmatrix(a).reshape(a.size, 1)\n",
    "    b = numpy.asmatrix(b).reshape(b.size, 1)\n",
    "    \n",
    "    rank = S.shape[0]\n",
    "    \n",
    "    # eq (6)\n",
    "    m = U.T * a\n",
    "    p = a - U * m\n",
    "    Ra = numpy.sqrt(p.T * p)\n",
    "    if float(Ra) < 1e-10:\n",
    "        logger.debug(\"input already contained in a subspace of U; skipping update\")\n",
    "        return U, S, V\n",
    "    P = (1.0 / float(Ra)) * p\n",
    "    \n",
    "    if V is not None:\n",
    "        # eq (7)\n",
    "        n = V.T * b\n",
    "        q = b - V * n\n",
    "        Rb = numpy.sqrt(q.T * q)\n",
    "        if float(Rb) < 1e-10:\n",
    "            logger.debug(\"input already contained in a subspace of V; skipping update\")\n",
    "            return U, S, V\n",
    "        Q = (1.0 / float(Rb)) * q\n",
    "    else:\n",
    "        n = numpy.matrix(numpy.zeros((rank, 1)))\n",
    "        Rb = numpy.matrix([[1.0]])    \n",
    "    \n",
    "    if float(Ra) > 1.0 or float(Rb) > 1.0:\n",
    "        logger.debug(\"insufficient target rank (Ra=%.3f, Rb=%.3f); this update will result in major loss of information\"\n",
    "                      % (float(Ra), float(Rb)))\n",
    "    \n",
    "    # eq (8)\n",
    "    K = numpy.matrix(numpy.diag(list(numpy.diag(S)) + [0.0])) + numpy.bmat('m ; Ra') * numpy.bmat('n ; Rb').T\n",
    "    \n",
    "    # eq (5)\n",
    "    u, s, vt = numpy.linalg.svd(K, full_matrices = False)\n",
    "    tUp = numpy.matrix(u[:, :rank])\n",
    "    tVp = numpy.matrix(vt.T[:, :rank])\n",
    "    tSp = numpy.matrix(numpy.diag(s[: rank]))\n",
    "    Up = numpy.bmat('U P') * tUp\n",
    "    if V is not None:\n",
    "        Vp = numpy.bmat('V Q') * tVp\n",
    "    else:\n",
    "        Vp = None\n",
    "    Sp = tSp\n",
    "    \n",
    "    return Up, Sp, Vp"
   ]
  },
  {
   "cell_type": "code",
   "execution_count": null,
   "metadata": {},
   "outputs": [],
   "source": [
    "\"\"\"                                                                                                                                                                                                                                                              m = self.U.T @ a                                                                                                                                                                                                                                         p = a - (self.U @ m)                                                                                                                                                                                                                                     R_a = np.sqrt(p.T @ p)                                                                                                                                                                                                                                   P = (1. / R_a) * p\n",
    "\n",
    "        n = V.T @ b\n",
    "        q = b - (V @ n)\n",
    "        R_b = np.sqrt(q.T @ q)\n",
    "        Q = (1. / R_b) * q\n",
    "\n",
    "        K_0 = np.zeros((self.S.shape[0] + 1, self.S.shape[0] + 1))\n",
    "        K_0[:-1, :-1] = self.S\n",
    "        K_1 = np.append(m, R_a).reshape(-1, 1) @ np.append(n, R_b).reshape(1, -1)\n",
    "        K = K_0 + K_1\n",
    "\n",
    "        C, Sp, DT = svds(K, self.k)\n",
    "        C, DT = svd_flip(C[:, ::-1], DT[::-1])\n",
    "        D = DT.T\n",
    "\n",
    "        U = np.hstack([self.U, P]) @ C\n",
    "        S = np.diag(Sp)\n",
    "\n",
    "        return((Up, Sp))\n",
    "\"\"\""
   ]
  }
 ],
 "metadata": {
  "kernelspec": {
   "display_name": "Python 3",
   "language": "python",
   "name": "python3"
  },
  "language_info": {
   "codemirror_mode": {
    "name": "ipython",
    "version": 3
   },
   "file_extension": ".py",
   "mimetype": "text/x-python",
   "name": "python",
   "nbconvert_exporter": "python",
   "pygments_lexer": "ipython3",
   "version": "3.6.6"
  }
 },
 "nbformat": 4,
 "nbformat_minor": 2
}
