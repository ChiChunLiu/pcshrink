{
 "cells": [
  {
   "cell_type": "markdown",
   "metadata": {},
   "source": [
    "# Imports"
   ]
  },
  {
   "cell_type": "code",
   "execution_count": 1,
   "metadata": {},
   "outputs": [],
   "source": [
    "import numpy as np\n",
    "import matplotlib.pyplot as plt\n",
    "import pandas as pd\n",
    "from scipy.sparse.linalg import svds\n",
    "from sklearn.utils.extmath import svd_flip\n",
    "\n",
    "import pcshrink"
   ]
  },
  {
   "cell_type": "markdown",
   "metadata": {},
   "source": [
    "# Data prep"
   ]
  },
  {
   "cell_type": "markdown",
   "metadata": {},
   "source": [
    "Read in the human origins west eurasian data"
   ]
  },
  {
   "cell_type": "code",
   "execution_count": 2,
   "metadata": {},
   "outputs": [
    {
     "name": "stdout",
     "output_type": "stream",
     "text": [
      "CPU times: user 8.12 s, sys: 2.54 s, total: 10.7 s\n",
      "Wall time: 8.12 s\n"
     ]
    }
   ],
   "source": [
    "%%time\n",
    "data = pcshrink.UnpackedAncestryMap(\"/project/jnovembre/jhmarcus/ancient-sardinia/data/ref_genotypes/7-11-2018/lazaridis_2014/data_fil\")"
   ]
  },
  {
   "cell_type": "code",
   "execution_count": 3,
   "metadata": {},
   "outputs": [
    {
     "name": "stdout",
     "output_type": "stream",
     "text": [
      "594924 777\n"
     ]
    }
   ],
   "source": [
    "Y = data.Y\n",
    "p, n = Y.shape\n",
    "print(p, n)"
   ]
  },
  {
   "cell_type": "code",
   "execution_count": 47,
   "metadata": {},
   "outputs": [],
   "source": [
    "norm = pcshrink.Normalizer(Y, .02, \"patterson\")"
   ]
  },
  {
   "cell_type": "code",
   "execution_count": 48,
   "metadata": {},
   "outputs": [],
   "source": [
    "Z = norm.Y\n",
    "n_samp = Z.shape[1]\n",
    "n_snp = Z.shape[0]"
   ]
  },
  {
   "cell_type": "code",
   "execution_count": 6,
   "metadata": {},
   "outputs": [],
   "source": [
    "#idx = np.random.choice(list(range(n_samp)), size=200, replace=False)\n",
    "#X = Y[:, idx] \n",
    "#norm = pcshrink.Normalizer(X, .02, \"patterson\")\n",
    "#X = norm.Y\n",
    "#n_snp, n_samp = X.shape"
   ]
  },
  {
   "cell_type": "code",
   "execution_count": 32,
   "metadata": {},
   "outputs": [],
   "source": [
    "Y_ = Y[norm.snp_idx,:] - norm.mu\n",
    "Y_[np.isnan(Y_)] = 0.0"
   ]
  },
  {
   "cell_type": "code",
   "execution_count": 33,
   "metadata": {},
   "outputs": [
    {
     "data": {
      "text/plain": [
       "(426765, 777)"
      ]
     },
     "execution_count": 33,
     "metadata": {},
     "output_type": "execute_result"
    }
   ],
   "source": [
    "Y_.shape"
   ]
  },
  {
   "cell_type": "markdown",
   "metadata": {},
   "source": [
    "# PCA"
   ]
  },
  {
   "cell_type": "code",
   "execution_count": 9,
   "metadata": {},
   "outputs": [],
   "source": [
    "def revise_svd(U, S, V, y, i):\n",
    "    \"\"\"\n",
    "    \"\"\"\n",
    "    # number of samples\n",
    "    n = V.shape[0]\n",
    "    \n",
    "    # table (1)\n",
    "    a = -y.reshape(-1, 1)\n",
    "    b = np.zeros((n, 1))\n",
    "    b[i] = 1\n",
    "    \n",
    "    # rank k approximation\n",
    "    k = S.shape[0]\n",
    "    \n",
    "    # equation (6)\n",
    "    m = U.T @ a\n",
    "    p = a - (U @ m)\n",
    "    R_a = np.sqrt(p.T @ p)[0, 0]\n",
    "    P = (1.0 / R_a) * p\n",
    "    \n",
    "    # equation (7)\n",
    "    n = V.T @ b\n",
    "    q = b - (V @ n)\n",
    "    R_b = np.sqrt(q.T @ q)[0, 0]\n",
    "    Q = (1.0 / R_b) * q\n",
    "    \n",
    "    # equation (8)\n",
    "    K_0 = np.zeros((k+1, k+1))\n",
    "    K_0[:k, :k] = S\n",
    "        \n",
    "    m_ = np.vstack([m, R_a]).reshape(-1, 1)\n",
    "    n_ = np.vstack([n, R_b]).reshape(-1, 1)\n",
    "    K = K_0 + (m_ @ n_.T)    \n",
    "    \n",
    "    # svd on K\n",
    "#    tUp, Sp, tVpT = svds(K, k)\n",
    "    tUp, Sp, tVpT = np.linalg.svd(K, full_matrices=True)\n",
    "    #tUp = tUp[:, :k]\n",
    "    #Sp = np.diag(Sp[:k])\n",
    "    Sp = np.diag(Sp)\n",
    "    #tVp = tVpT.T[:, :k]\n",
    "    tVp = tVpT.T\n",
    "    \n",
    "    # equation (5)\n",
    "    Up = np.hstack([U, P]) @ tUp\n",
    "    Vp = np.hstack([V, Q]) @ tVp\n",
    "    \n",
    "    Up = Up[:, :k]\n",
    "    Sp = Sp[:k, :k]\n",
    "    Vp = Vp[:, :k]\n",
    "    \n",
    "    Up = orient_sign(Up, U)\n",
    "    \n",
    "    return((Up, Sp, Vp))\n",
    "\n",
    "def ho_svd(Y, k, U_ref):\n",
    "    \n",
    "    U, S, VT = svds(Y, k)\n",
    "    S = np.diag(S[::-1])\n",
    "    U = orient_sign(U, U_ref)\n",
    "    V = VT.T\n",
    "    \n",
    "    return((U, S, V))\n",
    "\n",
    "def svd(Y, k):\n",
    "    \n",
    "    U, S, VT = svds(Y, k)\n",
    "\n",
    "    # singular values\n",
    "    S = np.diag(S[::-1])\n",
    "\n",
    "    U, VT = svd_flip(U[:, ::-1], VT[::-1])\n",
    "\n",
    "    V = VT.T\n",
    "    \n",
    "    return(U, S, V)\n",
    "\n",
    "def orient_sign(U, U_ref):\n",
    "    \"\"\"\n",
    "    \"\"\"\n",
    "    p, k = U.shape\n",
    "    D = np.zeros((k, k))\n",
    "    for i in range(k):\n",
    "        D[i, i] = np.sign(np.corrcoef(U[:, i], U_ref[:, i])[0, 1])\n",
    "    \n",
    "    U = U @ D\n",
    "    \n",
    "    return(U)"
   ]
  },
  {
   "cell_type": "code",
   "execution_count": 49,
   "metadata": {},
   "outputs": [],
   "source": [
    "ZtZ = (1.0 / n_snp) * Z.T @ Z"
   ]
  },
  {
   "cell_type": "code",
   "execution_count": 34,
   "metadata": {},
   "outputs": [],
   "source": [
    "YtY = (1.0 / n_snp) * Y_.T @ Y_"
   ]
  },
  {
   "cell_type": "code",
   "execution_count": 50,
   "metadata": {},
   "outputs": [],
   "source": [
    "_, Lamb, V = svd(ZtZ, n_samp-1)"
   ]
  },
  {
   "cell_type": "code",
   "execution_count": 58,
   "metadata": {},
   "outputs": [
    {
     "data": {
      "text/plain": [
       "0.55704635"
      ]
     },
     "execution_count": 58,
     "metadata": {},
     "output_type": "execute_result"
    }
   ],
   "source": []
  },
  {
   "cell_type": "code",
   "execution_count": 61,
   "metadata": {},
   "outputs": [
    {
     "data": {
      "text/plain": [
       "array([ 6.52466440e+00,  2.42768478e+00,  1.65051603e+00,  9.98864055e-01,\n",
       "        9.06675935e-01,  6.80661917e-01,  6.11660600e-01,  5.59756398e-01,\n",
       "        5.17752528e-01,  4.76652861e-01,  4.43717480e-01,  4.07123566e-01,\n",
       "        3.89065385e-01,  3.69274378e-01,  3.38564157e-01,  3.22162271e-01,\n",
       "        3.12545180e-01,  3.07988048e-01,  3.03035498e-01,  2.94121504e-01,\n",
       "        2.89903641e-01,  2.78513551e-01,  2.72388220e-01,  2.69136071e-01,\n",
       "        2.64450431e-01,  2.63426900e-01,  2.60318279e-01,  2.57800817e-01,\n",
       "        2.56065726e-01,  2.54555225e-01,  2.52726793e-01,  2.51295090e-01,\n",
       "        2.48683333e-01,  2.44232416e-01,  2.43948698e-01,  2.40552306e-01,\n",
       "        2.39599466e-01,  2.37235308e-01,  2.34569669e-01,  2.33741045e-01,\n",
       "        2.32190490e-01,  2.29742169e-01,  2.27153897e-01,  2.26528049e-01,\n",
       "        2.24284649e-01,  2.23736763e-01,  2.21917272e-01,  2.21514463e-01,\n",
       "        2.19658494e-01,  2.18756795e-01,  2.14922428e-01,  2.13934898e-01,\n",
       "        2.13370323e-01,  2.12917328e-01,  2.11999178e-01,  2.10063815e-01,\n",
       "        2.07437634e-01,  2.06859112e-01,  2.05754876e-01,  2.05160737e-01,\n",
       "        2.01973915e-01,  2.00356841e-01,  2.00167179e-01,  1.98124647e-01,\n",
       "        1.96415424e-01,  1.95505977e-01,  1.94841146e-01,  1.94390893e-01,\n",
       "        1.92321539e-01,  1.90950751e-01,  1.89615369e-01,  1.88944697e-01,\n",
       "        1.87951922e-01,  1.86937094e-01,  1.85904026e-01,  1.83850050e-01,\n",
       "        1.82651639e-01,  1.81885600e-01,  1.81151390e-01,  1.80347443e-01,\n",
       "        1.79335833e-01,  1.78700209e-01,  1.78437471e-01,  1.76570535e-01,\n",
       "        1.76048994e-01,  1.75286055e-01,  1.73654556e-01,  1.72830224e-01,\n",
       "        1.70824051e-01,  1.70090556e-01,  1.69828057e-01,  1.68163538e-01,\n",
       "        1.67387366e-01,  1.66174531e-01,  1.64801717e-01,  1.64310813e-01,\n",
       "        1.62883162e-01,  1.62191987e-01,  1.60954833e-01,  1.60026908e-01,\n",
       "        1.59433603e-01,  1.58623934e-01,  1.57070160e-01,  1.56507373e-01,\n",
       "        1.55982733e-01,  1.55616760e-01,  1.54811621e-01,  1.53426409e-01,\n",
       "        1.52328253e-01,  1.51666164e-01,  1.50942206e-01,  1.49698853e-01,\n",
       "        1.49560452e-01,  1.48354530e-01,  1.46992803e-01,  1.46496534e-01,\n",
       "        1.45668268e-01,  1.45413160e-01,  1.44398808e-01,  1.43061876e-01,\n",
       "        1.41716599e-01,  1.40740991e-01,  1.39582872e-01,  1.38574004e-01,\n",
       "        1.38054609e-01,  1.36875749e-01,  1.35869265e-01,  1.35472417e-01,\n",
       "        1.34504199e-01,  1.33533955e-01,  1.32662535e-01,  1.32580280e-01,\n",
       "        1.31790757e-01,  1.31337643e-01,  1.30546331e-01,  1.29039049e-01,\n",
       "        1.28747225e-01,  1.27851844e-01,  1.26159549e-01,  1.25305533e-01,\n",
       "        1.24446034e-01,  1.23295665e-01,  1.23131514e-01,  1.21613622e-01,\n",
       "        1.21248960e-01,  1.20778799e-01,  1.20289803e-01,  1.19916320e-01,\n",
       "        1.19070530e-01,  1.18607163e-01,  1.17861032e-01,  1.16610289e-01,\n",
       "        1.16408229e-01,  1.15041375e-01,  1.14576459e-01,  1.13620758e-01,\n",
       "        1.12727404e-01,  1.12255931e-01,  1.11724615e-01,  1.10736489e-01,\n",
       "        1.10501170e-01,  1.09521508e-01,  1.08455896e-01,  1.07970357e-01,\n",
       "        1.07418418e-01,  1.07104063e-01,  1.05154395e-01,  1.05071068e-01,\n",
       "        1.04235768e-01,  1.03815317e-01,  1.03421807e-01,  1.02795005e-01,\n",
       "        1.01353884e-01,  1.00672364e-01,  1.00435257e-01,  9.95366573e-02,\n",
       "        9.83515978e-02,  9.75500345e-02,  9.66662169e-02,  9.62378979e-02,\n",
       "        9.57210064e-02,  9.50390100e-02,  9.42252874e-02,  9.33185816e-02,\n",
       "        9.30681229e-02,  9.20350552e-02,  9.08576250e-02,  8.98072720e-02,\n",
       "        8.94393921e-02,  8.91734362e-02,  8.82297754e-02,  8.78067017e-02,\n",
       "        8.69803429e-02,  8.66518021e-02,  8.61941576e-02,  8.51662159e-02,\n",
       "        8.46277475e-02,  8.42187405e-02,  8.41354132e-02,  8.29162598e-02,\n",
       "        8.24372768e-02,  8.13475847e-02,  8.08942318e-02,  8.03142786e-02,\n",
       "        7.96891451e-02,  7.93037415e-02,  7.84960985e-02,  7.78490305e-02,\n",
       "        7.68705606e-02,  7.63015747e-02,  7.57956505e-02,  7.56789446e-02,\n",
       "        7.45520592e-02,  7.34195709e-02,  7.31174946e-02,  7.24158287e-02,\n",
       "        7.21818209e-02,  7.09695816e-02,  7.08129406e-02,  7.02258348e-02,\n",
       "        6.98015690e-02,  6.87218904e-02,  6.79609776e-02,  6.73213005e-02,\n",
       "        6.70534372e-02,  6.62977695e-02,  6.53705597e-02,  6.49374723e-02,\n",
       "        6.43659830e-02,  6.37108088e-02,  6.28564358e-02,  6.22246265e-02,\n",
       "        6.21255636e-02,  6.11492395e-02,  6.02545738e-02,  6.00090027e-02,\n",
       "        5.96462488e-02,  5.83009720e-02,  5.75959682e-02,  5.69950342e-02,\n",
       "        5.65170050e-02,  5.62398434e-02,  5.56297302e-02,  5.54509163e-02,\n",
       "        5.42283058e-02,  5.36383390e-02,  5.34044504e-02,  5.26367426e-02,\n",
       "        5.21683693e-02,  5.13010025e-02,  5.08763790e-02,  5.06188869e-02,\n",
       "        5.00353575e-02,  4.89368439e-02,  4.87447977e-02,  4.83123064e-02,\n",
       "        4.80110645e-02,  4.70117331e-02,  4.61679697e-02,  4.57905531e-02,\n",
       "        4.55211401e-02,  4.47905064e-02,  4.42073345e-02,  4.37417030e-02,\n",
       "        4.27888632e-02,  4.18564081e-02,  4.11647558e-02,  4.02474403e-02,\n",
       "        3.96238565e-02,  3.91426086e-02,  3.87005806e-02,  3.84938717e-02,\n",
       "        3.80578041e-02,  3.75300646e-02,  3.62373590e-02,  3.61478329e-02,\n",
       "        3.58043909e-02,  3.51631641e-02,  3.45044136e-02,  3.42029333e-02,\n",
       "        3.33217382e-02,  3.26259136e-02,  3.19377184e-02,  3.15397978e-02,\n",
       "        3.08290720e-02,  3.06886435e-02,  3.03090811e-02,  2.91060209e-02,\n",
       "        2.82349586e-02,  2.79190540e-02,  2.73841619e-02,  2.63828039e-02,\n",
       "        2.60055065e-02,  2.58942842e-02,  2.51761675e-02,  2.42315531e-02,\n",
       "        2.36258507e-02,  2.28900909e-02,  2.26712227e-02,  2.19408274e-02,\n",
       "        2.18154192e-02,  2.11197138e-02,  2.00519562e-02,  1.95404291e-02,\n",
       "        1.92492008e-02,  1.86934471e-02,  1.81926489e-02,  1.74006224e-02,\n",
       "        1.69330835e-02,  1.65375471e-02,  1.55001879e-02,  1.51236057e-02,\n",
       "        1.43562555e-02,  1.40414238e-02,  1.39343739e-02,  1.31191015e-02,\n",
       "        1.25148296e-02,  1.19653940e-02,  1.16221905e-02,  1.11289024e-02,\n",
       "        1.07064247e-02,  9.96351242e-03,  9.80448723e-03,  8.88299942e-03,\n",
       "        8.40210915e-03,  8.08894634e-03,  7.63297081e-03,  7.21251965e-03,\n",
       "        6.41953945e-03,  5.79488277e-03,  4.96959686e-03,  4.61149216e-03,\n",
       "        4.49311733e-03,  3.71086597e-03,  3.12411785e-03,  2.35593319e-03,\n",
       "        2.03979015e-03,  1.47676468e-03,  1.04176998e-03,  4.06742096e-04,\n",
       "        6.30617142e-05, -3.48210335e-04, -8.51869583e-04, -1.27273798e-03,\n",
       "       -1.85108185e-03, -2.29150057e-03, -3.02630663e-03, -3.56662273e-03,\n",
       "       -4.09197807e-03, -4.48018312e-03, -5.08952141e-03, -5.91814518e-03,\n",
       "       -6.29585981e-03, -6.76280260e-03, -7.41249323e-03, -7.63612986e-03,\n",
       "       -8.40568542e-03, -8.53931904e-03, -9.85312462e-03, -1.01048946e-02,\n",
       "       -1.08135343e-02, -1.14350319e-02, -1.22049451e-02, -1.25586390e-02,\n",
       "       -1.32440329e-02, -1.34838223e-02, -1.46430135e-02, -1.51950717e-02,\n",
       "       -1.53521895e-02, -1.60652399e-02, -1.64400339e-02, -1.71974301e-02,\n",
       "       -1.77810192e-02, -1.83200240e-02, -1.83432698e-02, -1.89008713e-02,\n",
       "       -1.93598270e-02, -2.00666189e-02, -2.07267404e-02, -2.10222602e-02,\n",
       "       -2.22310424e-02, -2.23398209e-02, -2.29454041e-02, -2.33961344e-02,\n",
       "       -2.34104991e-02, -2.38094926e-02, -2.43527293e-02, -2.48019695e-02,\n",
       "       -2.59795785e-02, -2.64294744e-02, -2.67891884e-02, -2.74444818e-02,\n",
       "       -2.78381705e-02, -2.79542208e-02, -2.87830830e-02, -2.93048620e-02,\n",
       "       -2.97445655e-02, -3.01532745e-02, -3.07695866e-02, -3.09622288e-02,\n",
       "       -3.13124657e-02, -3.18340659e-02, -3.21639776e-02, -3.26794386e-02,\n",
       "       -3.32341194e-02, -3.35106254e-02, -3.42136025e-02, -3.47381830e-02,\n",
       "       -3.49413753e-02, -3.57008576e-02, -3.66120338e-02, -3.74518037e-02,\n",
       "       -3.76206040e-02, -3.78664732e-02, -3.81321311e-02, -3.88234854e-02,\n",
       "       -3.94702554e-02, -3.97861600e-02, -4.08397317e-02, -4.15193439e-02,\n",
       "       -4.21656370e-02, -4.24481034e-02, -4.27472591e-02, -4.36331034e-02,\n",
       "       -4.40465212e-02, -4.45151925e-02, -4.49409485e-02, -4.54367399e-02,\n",
       "       -4.61663008e-02, -4.66535687e-02, -4.70649004e-02, -4.74922061e-02,\n",
       "       -4.79888320e-02, -4.84085679e-02, -4.85493541e-02, -4.92875576e-02,\n",
       "       -4.95840907e-02, -5.00606298e-02, -5.08090258e-02, -5.11001348e-02,\n",
       "       -5.14072776e-02, -5.17286658e-02, -5.22838235e-02, -5.27252555e-02,\n",
       "       -5.31272888e-02, -5.36711812e-02, -5.45246601e-02, -5.49762249e-02,\n",
       "       -5.54841161e-02, -5.61261773e-02, -5.69372177e-02, -5.70151210e-02,\n",
       "       -5.77741265e-02, -5.84410429e-02, -5.86758256e-02, -5.89509010e-02,\n",
       "       -5.90988398e-02, -5.91804385e-02, -6.04237914e-02, -6.06667995e-02,\n",
       "       -6.11980557e-02, -6.14719391e-02, -6.21189475e-02, -6.25731945e-02,\n",
       "       -6.29107952e-02, -6.34458065e-02, -6.39080405e-02, -6.42973781e-02,\n",
       "       -6.46006465e-02, -6.58692122e-02, -6.64685369e-02, -6.67204857e-02,\n",
       "       -6.73313737e-02, -6.78187013e-02, -6.81735277e-02, -6.84852004e-02,\n",
       "       -6.92299008e-02, -6.97035193e-02, -6.99740648e-02, -7.05403686e-02,\n",
       "       -7.09021688e-02, -7.15656281e-02, -7.20914006e-02, -7.26126432e-02,\n",
       "       -7.35093355e-02, -7.40457773e-02, -7.47851729e-02, -7.51404762e-02,\n",
       "       -7.53647089e-02, -7.56499171e-02, -7.65706897e-02, -7.71988034e-02,\n",
       "       -7.73073435e-02, -7.74596334e-02, -7.81155825e-02, -7.88840652e-02,\n",
       "       -7.95856714e-02, -8.01354647e-02, -8.05498362e-02, -8.06971788e-02,\n",
       "       -8.11572671e-02, -8.17595720e-02, -8.20758343e-02, -8.25828910e-02,\n",
       "       -8.35422873e-02, -8.41823220e-02, -8.45649242e-02, -8.51619840e-02,\n",
       "       -8.53152871e-02, -8.56739879e-02, -8.62429738e-02, -8.68397355e-02,\n",
       "       -8.72834921e-02, -8.80218744e-02, -8.82634521e-02, -8.87362957e-02,\n",
       "       -8.90190601e-02, -8.94951820e-02, -9.01705027e-02, -9.03723836e-02,\n",
       "       -9.11382437e-02, -9.16830897e-02, -9.22393799e-02, -9.22994018e-02,\n",
       "       -9.32062268e-02, -9.35682654e-02, -9.41283703e-02, -9.48165655e-02,\n",
       "       -9.54387784e-02, -9.56001878e-02, -9.61496830e-02, -9.64486003e-02,\n",
       "       -9.69865322e-02, -9.81220007e-02, -9.85260606e-02, -9.88887548e-02,\n",
       "       -9.95211601e-02, -1.00238919e-01, -1.00542784e-01, -1.00942433e-01,\n",
       "       -1.01049840e-01, -1.01770401e-01, -1.02099597e-01, -1.02667153e-01,\n",
       "       -1.03295863e-01, -1.03926063e-01, -1.04516923e-01, -1.04743361e-01,\n",
       "       -1.05115831e-01, -1.05481327e-01, -1.05758131e-01, -1.06121123e-01,\n",
       "       -1.06701970e-01, -1.07397854e-01, -1.07808709e-01, -1.08147442e-01,\n",
       "       -1.08759761e-01, -1.09114230e-01, -1.09474182e-01, -1.09930217e-01,\n",
       "       -1.10678971e-01, -1.11201763e-01, -1.11916661e-01, -1.12340212e-01,\n",
       "       -1.12685621e-01, -1.13281190e-01, -1.13544047e-01, -1.14108324e-01,\n",
       "       -1.14647686e-01, -1.15296781e-01, -1.15474999e-01, -1.15809381e-01,\n",
       "       -1.16598845e-01, -1.16822779e-01, -1.17513001e-01, -1.18272364e-01,\n",
       "       -1.18802071e-01, -1.19234800e-01, -1.19695246e-01, -1.19916737e-01,\n",
       "       -1.20661139e-01, -1.21073723e-01, -1.21652186e-01, -1.21701300e-01,\n",
       "       -1.22182786e-01, -1.23101950e-01, -1.23379648e-01, -1.23975158e-01,\n",
       "       -1.24787092e-01, -1.25123084e-01, -1.25380576e-01, -1.26341403e-01,\n",
       "       -1.26572073e-01, -1.26732469e-01, -1.27582550e-01, -1.27888262e-01,\n",
       "       -1.28068805e-01, -1.28730655e-01, -1.29318416e-01, -1.30037546e-01,\n",
       "       -1.30280614e-01, -1.30460978e-01, -1.30926669e-01, -1.32170677e-01,\n",
       "       -1.32602692e-01, -1.33266032e-01, -1.33495629e-01, -1.33734643e-01,\n",
       "       -1.35241628e-01, -1.35608673e-01, -1.36067271e-01, -1.36485875e-01,\n",
       "       -1.36776030e-01, -1.37349129e-01, -1.38033092e-01, -1.38539135e-01,\n",
       "       -1.38815641e-01, -1.39521778e-01, -1.39905214e-01, -1.40154123e-01,\n",
       "       -1.40451074e-01, -1.40799403e-01, -1.41677201e-01, -1.42356336e-01,\n",
       "       -1.42978966e-01, -1.43421650e-01, -1.43875837e-01, -1.44077003e-01,\n",
       "       -1.44774318e-01, -1.45293832e-01, -1.45521879e-01, -1.46421075e-01,\n",
       "       -1.46958232e-01, -1.47447288e-01, -1.47968769e-01, -1.48710728e-01,\n",
       "       -1.48970664e-01, -1.49992526e-01, -1.50152385e-01, -1.50910854e-01,\n",
       "       -1.51283145e-01, -1.51671171e-01, -1.52156234e-01, -1.52892411e-01,\n",
       "       -1.53179348e-01, -1.53526485e-01, -1.54151440e-01, -1.54341936e-01,\n",
       "       -1.54800057e-01, -1.55078888e-01, -1.55599236e-01, -1.56417370e-01,\n",
       "       -1.56839073e-01, -1.57798111e-01, -1.58010423e-01, -1.58716440e-01,\n",
       "       -1.59150898e-01, -1.59251809e-01, -1.59677386e-01, -1.60464525e-01,\n",
       "       -1.60959899e-01, -1.61663532e-01, -1.62340581e-01, -1.62448525e-01,\n",
       "       -1.63342357e-01, -1.63725913e-01, -1.64279997e-01, -1.64949656e-01,\n",
       "       -1.65372849e-01, -1.65871322e-01, -1.66348934e-01, -1.67122662e-01,\n",
       "       -1.67913616e-01, -1.68075025e-01, -1.68839335e-01, -1.69394672e-01,\n",
       "       -1.70299470e-01, -1.70443594e-01, -1.70985639e-01, -1.71592772e-01,\n",
       "       -1.72273278e-01, -1.72923684e-01, -1.73088193e-01, -1.74108028e-01,\n",
       "       -1.74658656e-01, -1.75055683e-01, -1.75472915e-01, -1.76350892e-01,\n",
       "       -1.77196681e-01, -1.77403629e-01, -1.78176999e-01, -1.78329766e-01,\n",
       "       -1.79005146e-01, -1.79240048e-01, -1.79562449e-01, -1.81259811e-01,\n",
       "       -1.81788445e-01, -1.82040095e-01, -1.82703972e-01, -1.83458626e-01,\n",
       "       -1.83932602e-01, -1.84306085e-01, -1.84820712e-01, -1.85262144e-01,\n",
       "       -1.85579836e-01, -1.85919583e-01, -1.87088370e-01, -1.87471271e-01,\n",
       "       -1.88264549e-01, -1.89170778e-01, -1.90129340e-01, -1.90636098e-01,\n",
       "       -1.90818906e-01, -1.91316783e-01, -1.92104042e-01, -1.92522347e-01,\n",
       "       -1.93066657e-01, -1.93627357e-01, -1.94694400e-01, -1.94967508e-01,\n",
       "       -1.95480645e-01, -1.96158230e-01, -1.97167754e-01, -1.97773874e-01,\n",
       "       -1.98752284e-01, -1.99124694e-01, -1.99368358e-01, -2.00960279e-01,\n",
       "       -2.01092660e-01, -2.02188611e-01, -2.02523828e-01, -2.03781843e-01,\n",
       "       -2.04398572e-01, -2.05244660e-01, -2.05992401e-01, -2.06943154e-01,\n",
       "       -2.07165003e-01, -2.08521247e-01, -2.09104419e-01, -2.09321856e-01,\n",
       "       -2.09804237e-01, -2.10343659e-01, -2.11668611e-01, -2.11990774e-01,\n",
       "       -2.12733328e-01, -2.13809133e-01, -2.13899612e-01, -2.15586424e-01,\n",
       "       -2.16330171e-01, -2.16723680e-01, -2.18038142e-01, -2.19052553e-01,\n",
       "       -2.19473064e-01, -2.19790578e-01, -2.21192956e-01, -2.21980274e-01,\n",
       "       -2.23036528e-01, -2.23485589e-01, -2.24924207e-01, -2.25840330e-01,\n",
       "       -2.26940155e-01, -2.28602767e-01, -2.29601026e-01, -2.30649054e-01,\n",
       "       -2.31491148e-01, -2.33121812e-01, -2.33888805e-01, -2.35372126e-01,\n",
       "       -2.38920689e-01, -2.39632308e-01, -2.41306007e-01, -2.42415488e-01,\n",
       "       -2.60269165e-01, -2.62141705e-01, -2.83344984e-01, -5.20804405e-01],\n",
       "      dtype=float32)"
      ]
     },
     "execution_count": 61,
     "metadata": {},
     "output_type": "execute_result"
    }
   ],
   "source": [
    "(np.diag(Lamb)- 1)"
   ]
  },
  {
   "cell_type": "code",
   "execution_count": 46,
   "metadata": {},
   "outputs": [
    {
     "data": {
      "text/plain": [
       "Text(0,0.5,'eigen value')"
      ]
     },
     "execution_count": 46,
     "metadata": {},
     "output_type": "execute_result"
    },
    {
     "data": {
      "image/png": "[encoded data removed]",
      "text/plain": [
       "<Figure size 432x288 with 1 Axes>"
      ]
     },
     "metadata": {},
     "output_type": "display_data"
    }
   ],
   "source": [
    "plt.scatter(np.arange(n_samp-1), np.diag(Lamb))\n",
    "plt.xlabel(\"index\")\n",
    "plt.ylabel(\"eigen value\")"
   ]
  },
  {
   "cell_type": "code",
   "execution_count": 38,
   "metadata": {},
   "outputs": [
    {
     "data": {
      "text/plain": [
       "<matplotlib.collections.PathCollection at 0x7fdcc42f07b8>"
      ]
     },
     "execution_count": 38,
     "metadata": {},
     "output_type": "execute_result"
    },
    {
     "data": {
      "image/png": "[encoded data removed]",
      "text/plain": [
       "<Figure size 432x288 with 1 Axes>"
      ]
     },
     "metadata": {},
     "output_type": "display_data"
    }
   ],
   "source": [
    "plt.scatter(V[:,0], V[:, 1])"
   ]
  },
  {
   "cell_type": "code",
   "execution_count": null,
   "metadata": {},
   "outputs": [],
   "source": []
  },
  {
   "cell_type": "code",
   "execution_count": 9,
   "metadata": {},
   "outputs": [
    {
     "name": "stdout",
     "output_type": "stream",
     "text": [
      "i\n",
      "i\n"
     ]
    },
    {
     "ename": "KeyboardInterrupt",
     "evalue": "",
     "output_type": "error",
     "traceback": [
      "\u001b[0;31m---------------------------------------------------------------------------\u001b[0m",
      "\u001b[0;31mKeyboardInterrupt\u001b[0m                         Traceback (most recent call last)",
      "\u001b[0;32m<timed exec>\u001b[0m in \u001b[0;36m<module>\u001b[0;34m()\u001b[0m\n",
      "\u001b[0;31mKeyboardInterrupt\u001b[0m: "
     ]
    }
   ],
   "source": [
    "%%time\n",
    "for i in range(n_samp):\n",
    "    print(\"i\")\n",
    "    idx = np.ones(n_samp, dtype=\"bool\")\n",
    "    idx[i] = False\n",
    "    _, S, V = svd(ZtZ[idx, :][:, idx], 10)\n",
    "    s = np.sqrt(np.diag(S))\n",
    "    Sinv = 1. / np.sqrt(np.diag(S))\n",
    "    U = Z[:, idx] @ V @ Sinv"
   ]
  },
  {
   "cell_type": "code",
   "execution_count": null,
   "metadata": {},
   "outputs": [],
   "source": [
    "%%time\n",
    "k = 100\n",
    "U, S, V = svd(Z, k)\n",
    "F = U @ S\n",
    "F = F / np.linalg.norm(F, axis=0, ord=2)\n",
    "L = (F.T @ Z).T"
   ]
  },
  {
   "cell_type": "code",
   "execution_count": null,
   "metadata": {},
   "outputs": [],
   "source": [
    "%%time\n",
    "L_proj = np.empty((n_samp, k))\n",
    "#L_ho = np.empty((n_samp, k))\n",
    "for i in range(n_samp):\n",
    "    \n",
    "    if i % 25 == 0:\n",
    "        print(i)\n",
    "    \n",
    "    Up, Sp, Vp = revise_svd(U, S, V, Z[:, i], i)\n",
    "    Fp = Up @ Sp\n",
    "    Fp = Fp / np.linalg.norm(Fp, axis=0, ord=2)\n",
    "    L_proj[i, :] = (Fp.T @ Z[:, i]).T\n",
    "    \n",
    "    #c = np.ones(n_samp, dtype=\"bool\")\n",
    "    #c[i] = False\n",
    "    #Uh, Sh, Vh = ho_svd(X[:, c], k, U)\n",
    "    #Fh = Uh @ Sh\n",
    "    #Fh = Fh / np.linalg.norm(Fh, axis=0, ord=2)\n",
    "    #L_ho[i, :] = (Fh.T @ X[:, i]).T    "
   ]
  },
  {
   "cell_type": "code",
   "execution_count": null,
   "metadata": {},
   "outputs": [],
   "source": [
    "l = 0\n",
    "m = 1\n",
    "plt.scatter(L[:, l], L[:, m])\n",
    "plt.scatter(L_proj[:, l], L_proj[:, m], color=\"green\")\n",
    "#plt.scatter(L_ho[:, 0], L_ho[:, 1])\n"
   ]
  },
  {
   "cell_type": "markdown",
   "metadata": {},
   "source": [
    "---"
   ]
  },
  {
   "cell_type": "markdown",
   "metadata": {},
   "source": [
    "Run the svd actually holding out that point ... "
   ]
  },
  {
   "cell_type": "code",
   "execution_count": null,
   "metadata": {},
   "outputs": [],
   "source": [
    "j = 192\n",
    "idx = np.zeros(n_samp, dtype=\"bool\")\n",
    "idx[j] = 1 \n",
    "Zs = Z[:, ~idx]\n",
    "Us, Ss, Vs = svd(Zs, k)\n",
    "Fs = Us @ Ss\n",
    "Fs = Fs / np.linalg.norm(Fs, axis=0, ord=2)\n",
    "Ls = (Fs.T @ Z[:, j]).T"
   ]
  },
  {
   "cell_type": "code",
   "execution_count": null,
   "metadata": {},
   "outputs": [],
   "source": [
    "plt.scatter(L[:,0], L[:,1])\n",
    "plt.scatter(L[j, 0], L[j, 1], color=\"black\")\n",
    "plt.scatter(Ls[0], Ls[1], color=\"orange\")"
   ]
  }
 ],
 "metadata": {
  "kernelspec": {
   "display_name": "Python 3",
   "language": "python",
   "name": "python3"
  },
  "language_info": {
   "codemirror_mode": {
    "name": "ipython",
    "version": 3
   },
   "file_extension": ".py",
   "mimetype": "text/x-python",
   "name": "python",
   "nbconvert_exporter": "python",
   "pygments_lexer": "ipython3",
   "version": "3.6.6"
  }
 },
 "nbformat": 4,
 "nbformat_minor": 2
}
