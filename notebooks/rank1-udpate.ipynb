{
 "cells": [
  {
   "cell_type": "markdown",
   "metadata": {},
   "source": [
    "# Imports"
   ]
  },
  {
   "cell_type": "code",
   "execution_count": 28,
   "metadata": {},
   "outputs": [],
   "source": [
    "import numpy as np\n",
    "import matplotlib.pyplot as plt\n",
    "import pandas as pd\n",
    "from scipy.sparse.linalg import svds\n",
    "from sklearn.utils.extmath import svd_flip\n",
    "\n",
    "import pcshrink"
   ]
  },
  {
   "cell_type": "markdown",
   "metadata": {},
   "source": [
    "# Data prep"
   ]
  },
  {
   "cell_type": "markdown",
   "metadata": {},
   "source": [
    "Read in the human origins west eurasian data"
   ]
  },
  {
   "cell_type": "code",
   "execution_count": 29,
   "metadata": {},
   "outputs": [
    {
     "name": "stdout",
     "output_type": "stream",
     "text": [
      "CPU times: user 7.8 s, sys: 2.09 s, total: 9.89 s\n",
      "Wall time: 3.58 s\n"
     ]
    }
   ],
   "source": [
    "%%time\n",
    "data = pcshrink.UnpackedAncestryMap(\"/project/jnovembre/jhmarcus/ancient-sardinia/data/ref_genotypes/7-11-2018/lazaridis_2014/data_fil\")"
   ]
  },
  {
   "cell_type": "code",
   "execution_count": 30,
   "metadata": {},
   "outputs": [
    {
     "name": "stdout",
     "output_type": "stream",
     "text": [
      "594924 777\n"
     ]
    }
   ],
   "source": [
    "Y = data.Y\n",
    "p, n = Y.shape\n",
    "print(p, n)"
   ]
  },
  {
   "cell_type": "code",
   "execution_count": 31,
   "metadata": {},
   "outputs": [],
   "source": [
    "norm = pcshrink.Normalizer(Y, .02, \"patterson\")"
   ]
  },
  {
   "cell_type": "code",
   "execution_count": 32,
   "metadata": {},
   "outputs": [],
   "source": [
    "Z = norm.Y"
   ]
  },
  {
   "cell_type": "markdown",
   "metadata": {},
   "source": [
    "# PCA"
   ]
  },
  {
   "cell_type": "code",
   "execution_count": 114,
   "metadata": {},
   "outputs": [],
   "source": [
    "def svd(Y, k, flip=True):\n",
    "    \n",
    "    U, S, VT = svds(Y, k)\n",
    "\n",
    "    # singular values\n",
    "    S = np.diag(S[::-1])\n",
    "\n",
    "    if flip:\n",
    "        # left and right eigenvectors\n",
    "        U, VT = svd_flip(U[:, ::-1], VT[::-1])\n",
    "\n",
    "    V = VT.T\n",
    "    \n",
    "    return(U, S, V)"
   ]
  },
  {
   "cell_type": "code",
   "execution_count": 249,
   "metadata": {},
   "outputs": [
    {
     "name": "stdout",
     "output_type": "stream",
     "text": [
      "CPU times: user 24.3 s, sys: 574 ms, total: 24.8 s\n",
      "Wall time: 890 ms\n"
     ]
    }
   ],
   "source": [
    "%%time\n",
    "k = 5\n",
    "n_snp, n_samp = Z.shape\n",
    "U, S, V = svd(Z, k, flip=True)\n",
    "F = U @ S\n",
    "F = F / np.linalg.norm(F, axis=0, ord=2)\n",
    "L = (F.T @ Z).T"
   ]
  },
  {
   "cell_type": "code",
   "execution_count": 250,
   "metadata": {},
   "outputs": [
    {
     "data": {
      "text/plain": [
       "<matplotlib.collections.PathCollection at 0x7f71865e88d0>"
      ]
     },
     "execution_count": 250,
     "metadata": {},
     "output_type": "execute_result"
    },
    {
     "data": {
      "image/png": "[encoded data removed]",
      "text/plain": [
       "<Figure size 432x288 with 1 Axes>"
      ]
     },
     "metadata": {},
     "output_type": "display_data"
    }
   ],
   "source": [
    "plt.scatter(L[:, 0], L[:, 1])"
   ]
  },
  {
   "cell_type": "code",
   "execution_count": 254,
   "metadata": {},
   "outputs": [],
   "source": [
    "i = 192\n",
    "a = -Z[:, i].reshape(n_snp, 1)\n",
    "b = np.zeros(n_samp).reshape(n_samp, 1)\n",
    "b[-1] = 1\n",
    "\n",
    "v_last = V[-1, :]\n",
    "v_i = V[i, :]\n",
    "V[-1, :] = v_i\n",
    "V[i, :] = v_last"
   ]
  },
  {
   "cell_type": "code",
   "execution_count": 255,
   "metadata": {},
   "outputs": [
    {
     "name": "stdout",
     "output_type": "stream",
     "text": [
      "0.19635937469296166\n",
      "-0.02261010487643919\n"
     ]
    }
   ],
   "source": [
    "# just making sure the last column is the person I deleted\n",
    "Z_approx = U @ S @ V.T\n",
    "print(np.corrcoef(Z_approx[:, -1], -a.reshape(-1))[0, 1])\n",
    "print(np.corrcoef(Z_approx[:, -1], Z[:, 100].reshape(-1))[0, 1])\n"
   ]
  },
  {
   "cell_type": "code",
   "execution_count": 256,
   "metadata": {},
   "outputs": [],
   "source": [
    "m = U.T @ a\n",
    "p = a - (U @ m)\n",
    "R_a = np.sqrt(p.T @ p)\n",
    "P = (1. / R_a) * p\n",
    "\n",
    "n = V.T @ b\n",
    "q = b - (V @ n)\n",
    "R_b = np.sqrt(q.T @ q)\n",
    "Q = (1. / R_b) * q"
   ]
  },
  {
   "cell_type": "code",
   "execution_count": 257,
   "metadata": {},
   "outputs": [],
   "source": [
    "K_0 = np.zeros((S.shape[0] + 1, S.shape[0] + 1))\n",
    "K_0[:-1, :-1] = S\n",
    "K.shape\n",
    "K_1 = np.append(m, R_a).reshape(-1, 1) @ np.append(n, R_b).reshape(1, -1)\n",
    "K = K_0 + K_1\n",
    "\n",
    "#K = np.array(np.matrix(np.diag(list(np.diag(S)) + [0.0])))\n",
    "#I = np.eye(K.shape[0])\n",
    "#e = np.append((S @ n), 0.0).reshape(-1, 1)\n",
    "#fT = np.append(n, np.sqrt(1. - (n.T @ n))).reshape(1, -1)\n",
    "#K = K @ (I - (e @ fT))"
   ]
  },
  {
   "cell_type": "code",
   "execution_count": 258,
   "metadata": {},
   "outputs": [],
   "source": [
    "tUp, tSp, tVpT = np.linalg.svd(K, full_matrices=False)\n",
    "#tUp, tVpT = svd_flip(tUp, tVpT)\n",
    "\n",
    "tUp = np.array(tUp[:, :k])\n",
    "tVp = np.array(tVpT.T[:, :k])\n",
    "Sp = np.array(np.diag(tSp[:k]))\n",
    "Up = np.array(np.bmat('U P') * tUp)\n",
    "Vp = np.array(np.bmat('V Q') * tVp)\n",
    "#Up, VpT = svd_flip(Up, Vp.T)"
   ]
  },
  {
   "cell_type": "markdown",
   "metadata": {},
   "source": [
    "Force orthongality"
   ]
  },
  {
   "cell_type": "code",
   "execution_count": 259,
   "metadata": {},
   "outputs": [],
   "source": [
    "UQ, UR = np.linalg.qr(Up)\n",
    "VQ, VR = np.linalg.qr(Vp)\n",
    "tUp, tSp, tVpT = np.linalg.svd(UR @ Sp @ VR.T, full_matrices=False)\n",
    "Up = UQ @ tUp\n",
    "Vp = VQ @ tVpT.T\n",
    "Up, VpT = svd_flip(Up, Vp.T)"
   ]
  },
  {
   "cell_type": "markdown",
   "metadata": {},
   "source": [
    "Reproject the heldout person"
   ]
  },
  {
   "cell_type": "code",
   "execution_count": 260,
   "metadata": {},
   "outputs": [
    {
     "data": {
      "text/plain": [
       "(426765, 5)"
      ]
     },
     "execution_count": 260,
     "metadata": {},
     "output_type": "execute_result"
    }
   ],
   "source": [
    "Fp = Up @ Sp\n",
    "Fp = Fp / np.linalg.norm(Fp, axis=0, ord=2)\n",
    "Fp.shape"
   ]
  },
  {
   "cell_type": "code",
   "execution_count": 261,
   "metadata": {},
   "outputs": [
    {
     "name": "stdout",
     "output_type": "stream",
     "text": [
      "CPU times: user 160 ms, sys: 134 ms, total: 294 ms\n",
      "Wall time: 205 ms\n"
     ]
    }
   ],
   "source": [
    "%%time \n",
    "Lp = (Fp.T @ Z[:, i]).T\n",
    "Lp.shape"
   ]
  },
  {
   "cell_type": "code",
   "execution_count": 262,
   "metadata": {},
   "outputs": [
    {
     "data": {
      "text/plain": [
       "<matplotlib.collections.PathCollection at 0x7f7186526668>"
      ]
     },
     "execution_count": 262,
     "metadata": {},
     "output_type": "execute_result"
    },
    {
     "data": {
      "image/png": "[encoded data removed]",
      "text/plain": [
       "<Figure size 432x288 with 1 Axes>"
      ]
     },
     "metadata": {},
     "output_type": "display_data"
    }
   ],
   "source": [
    "plt.scatter(L[:,0], L[:,1])\n",
    "plt.scatter(L[i, 0], L[i, 1], color=\"black\")\n",
    "plt.scatter(Lp[0], Lp[1], color=\"orange\")"
   ]
  },
  {
   "cell_type": "code",
   "execution_count": 263,
   "metadata": {},
   "outputs": [
    {
     "name": "stdout",
     "output_type": "stream",
     "text": [
      "0.999999707845563\n",
      "0.9999987217774592\n",
      "0.9999999675778548\n",
      "0.9999962989965814\n",
      "0.9999973350245375\n"
     ]
    }
   ],
   "source": [
    "for r in range(k):\n",
    "    print(np.corrcoef(Fp[:, r], F[:, r])[0, 1])"
   ]
  },
  {
   "cell_type": "markdown",
   "metadata": {},
   "source": [
    "Run the svd actually holding out that point ... "
   ]
  },
  {
   "cell_type": "code",
   "execution_count": 274,
   "metadata": {},
   "outputs": [],
   "source": [
    "j = 192\n",
    "idx = np.zeros(n_samp, dtype=\"bool\")\n",
    "idx[j] = 1 \n",
    "Zs = Z[:, ~idx]\n",
    "Us, Ss, Vs = svd(Zs, k, flip=True)\n",
    "Fs = Us @ Ss\n",
    "Fs = Fs / np.linalg.norm(Fs, axis=0, ord=2)\n",
    "Ls = (Fs.T @ Z[:, j]).T"
   ]
  },
  {
   "cell_type": "code",
   "execution_count": 273,
   "metadata": {},
   "outputs": [
    {
     "data": {
      "text/plain": [
       "<matplotlib.collections.PathCollection at 0x7f718637c9b0>"
      ]
     },
     "execution_count": 273,
     "metadata": {},
     "output_type": "execute_result"
    },
    {
     "data": {
      "image/png": "[encoded data removed]",
      "text/plain": [
       "<Figure size 432x288 with 1 Axes>"
      ]
     },
     "metadata": {},
     "output_type": "display_data"
    }
   ],
   "source": [
    "plt.scatter(L[:,0], L[:,1])\n",
    "plt.scatter(L[j, 0], L[j, 1], color=\"black\")\n",
    "plt.scatter(Ls[0], Ls[1], color=\"orange\")"
   ]
  },
  {
   "cell_type": "code",
   "execution_count": null,
   "metadata": {},
   "outputs": [],
   "source": []
  }
 ],
 "metadata": {
  "kernelspec": {
   "display_name": "Python 3",
   "language": "python",
   "name": "python3"
  },
  "language_info": {
   "codemirror_mode": {
    "name": "ipython",
    "version": 3
   },
   "file_extension": ".py",
   "mimetype": "text/x-python",
   "name": "python",
   "nbconvert_exporter": "python",
   "pygments_lexer": "ipython3",
   "version": "3.6.6"
  }
 },
 "nbformat": 4,
 "nbformat_minor": 2
}
