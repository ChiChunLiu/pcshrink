{
 "cells": [
  {
   "cell_type": "markdown",
   "metadata": {},
   "source": [
    "# Imports"
   ]
  },
  {
   "cell_type": "code",
   "execution_count": null,
   "metadata": {},
   "outputs": [],
   "source": [
    "import numpy as np\n",
    "import matplotlib.pyplot as plt\n",
    "import pandas as pd\n",
    "from scipy.sparse.linalg import svds\n",
    "from sklearn.utils.extmath import svd_flip\n",
    "\n",
    "import pcshrink"
   ]
  },
  {
   "cell_type": "markdown",
   "metadata": {},
   "source": [
    "# Data prep"
   ]
  },
  {
   "cell_type": "markdown",
   "metadata": {},
   "source": [
    "Read in the human origins west eurasian data"
   ]
  },
  {
   "cell_type": "code",
   "execution_count": 2,
   "metadata": {},
   "outputs": [
    {
     "name": "stdout",
     "output_type": "stream",
     "text": [
      "CPU times: user 6.54 s, sys: 2.41 s, total: 8.95 s\n",
      "Wall time: 7.8 s\n"
     ]
    }
   ],
   "source": [
    "%%time\n",
    "data = pcshrink.UnpackedAncestryMap(\"/project/jnovembre/jhmarcus/ancient-sardinia/data/ref_genotypes/7-11-2018/lazaridis_2014/data_fil\")"
   ]
  },
  {
   "cell_type": "code",
   "execution_count": 3,
   "metadata": {},
   "outputs": [
    {
     "name": "stdout",
     "output_type": "stream",
     "text": [
      "594924 777\n"
     ]
    }
   ],
   "source": [
    "Y = data.Y\n",
    "p, n = Y.shape\n",
    "print(p, n)"
   ]
  },
  {
   "cell_type": "code",
   "execution_count": 30,
   "metadata": {},
   "outputs": [],
   "source": [
    "norm = pcshrink.Normalizer(Y, .02, \"patterson\")"
   ]
  },
  {
   "cell_type": "code",
   "execution_count": 29,
   "metadata": {},
   "outputs": [],
   "source": [
    "Z = norm.Y\n",
    "n_samp = Z.shape[1]\n"
   ]
  },
  {
   "cell_type": "code",
   "execution_count": 19,
   "metadata": {},
   "outputs": [],
   "source": [
    "#idx = np.random.choice(list(range(n_samp)), size=200, replace=False)\n",
    "#X = Y[:, idx] \n",
    "#norm = pcshrink.Normalizer(X, .02, \"patterson\")\n",
    "#X = norm.Y\n",
    "#n_snp, n_samp = X.shape"
   ]
  },
  {
   "cell_type": "code",
   "execution_count": 21,
   "metadata": {},
   "outputs": [],
   "source": [
    "#X.shape"
   ]
  },
  {
   "cell_type": "markdown",
   "metadata": {},
   "source": [
    "# PCA"
   ]
  },
  {
   "cell_type": "code",
   "execution_count": 24,
   "metadata": {},
   "outputs": [],
   "source": [
    "def revise_svd(U, S, V, y, i):\n",
    "    \"\"\"\n",
    "    \"\"\"\n",
    "    # number of samples\n",
    "    n = V.shape[0]\n",
    "    \n",
    "    # table (1)\n",
    "    a = -y.reshape(-1, 1)\n",
    "    b = np.zeros((n, 1))\n",
    "    b[i] = 1\n",
    "    \n",
    "    # rank k approximation\n",
    "    k = S.shape[0]\n",
    "    \n",
    "    # equation (6)\n",
    "    m = U.T @ a\n",
    "    p = a - (U @ m)\n",
    "    R_a = np.sqrt(p.T @ p)[0, 0]\n",
    "    P = (1.0 / R_a) * p\n",
    "    \n",
    "    # equation (7)\n",
    "    n = V.T @ b\n",
    "    q = b - (V @ n)\n",
    "    R_b = np.sqrt(q.T @ q)[0, 0]\n",
    "    Q = (1.0 / R_b) * q\n",
    "    \n",
    "    # equation (8)\n",
    "    K_0 = np.zeros((k+1, k+1))\n",
    "    K_0[:k, :k] = S\n",
    "        \n",
    "    m_ = np.vstack([m, R_a]).reshape(-1, 1)\n",
    "    n_ = np.vstack([n, R_b]).reshape(-1, 1)\n",
    "    K = K_0 + (m_ @ n_.T)    \n",
    "    \n",
    "    # svd on K\n",
    "#    tUp, Sp, tVpT = svds(K, k)\n",
    "    tUp, Sp, tVpT = np.linalg.svd(K, full_matrices=True)\n",
    "    #tUp = tUp[:, :k]\n",
    "    #Sp = np.diag(Sp[:k])\n",
    "    Sp = np.diag(Sp)\n",
    "    #tVp = tVpT.T[:, :k]\n",
    "    tVp = tVpT.T\n",
    "    \n",
    "    # equation (5)\n",
    "    Up = np.hstack([U, P]) @ tUp\n",
    "    Vp = np.hstack([V, Q]) @ tVp\n",
    "    \n",
    "    Up = Up[:, :k]\n",
    "    Sp = Sp[:k, :k]\n",
    "    Vp = Vp[:, :k]\n",
    "    \n",
    "    Up = orient_sign(Up, U)\n",
    "    \n",
    "    return((Up, Sp, Vp))\n",
    "\n",
    "def ho_svd(Y, k, U_ref):\n",
    "    \n",
    "    U, S, VT = svds(Y, k)\n",
    "    S = np.diag(S[::-1])\n",
    "    U = orient_sign(U, U_ref)\n",
    "    V = VT.T\n",
    "    \n",
    "    return((U, S, V))\n",
    "\n",
    "def svd(Y, k):\n",
    "    \n",
    "    U, S, VT = svds(Y, k)\n",
    "\n",
    "    # singular values\n",
    "    S = np.diag(S[::-1])\n",
    "\n",
    "    U, VT = svd_flip(U[:, ::-1], VT[::-1])\n",
    "\n",
    "    V = VT.T\n",
    "    \n",
    "    return(U, S, V)\n",
    "\n",
    "def orient_sign(U, U_ref):\n",
    "    \"\"\"\n",
    "    \"\"\"\n",
    "    p, k = U.shape\n",
    "    D = np.zeros((k, k))\n",
    "    for i in range(k):\n",
    "        D[i, i] = np.sign(np.corrcoef(U[:, i], U_ref[:, i])[0, 1])\n",
    "    \n",
    "    U = U @ D\n",
    "    \n",
    "    return(U)"
   ]
  },
  {
   "cell_type": "code",
   "execution_count": 25,
   "metadata": {},
   "outputs": [
    {
     "name": "stdout",
     "output_type": "stream",
     "text": [
      "CPU times: user 17.9 s, sys: 875 ms, total: 18.7 s\n",
      "Wall time: 673 ms\n"
     ]
    }
   ],
   "source": [
    "%%time\n",
    "k = 10\n",
    "\n",
    "U, S, V = svd(Z, k)\n",
    "F = U @ S\n",
    "F = F / np.linalg.norm(F, axis=0, ord=2)\n",
    "L = (F.T @ Z).T"
   ]
  },
  {
   "cell_type": "code",
   "execution_count": 26,
   "metadata": {},
   "outputs": [
    {
     "data": {
      "text/plain": [
       "<matplotlib.collections.PathCollection at 0x7fba5881b400>"
      ]
     },
     "execution_count": 26,
     "metadata": {},
     "output_type": "execute_result"
    },
    {
     "data": {
      "image/png": "[encoded data removed]",
      "text/plain": [
       "<Figure size 432x288 with 1 Axes>"
      ]
     },
     "metadata": {},
     "output_type": "display_data"
    }
   ],
   "source": [
    "plt.scatter(L[:, 0], L[:, 1])"
   ]
  },
  {
   "cell_type": "code",
   "execution_count": 27,
   "metadata": {},
   "outputs": [
    {
     "name": "stdout",
     "output_type": "stream",
     "text": [
      "0\n",
      "25\n",
      "50\n",
      "75\n",
      "100\n",
      "125\n",
      "150\n",
      "175\n",
      "CPU times: user 23min 10s, sys: 1min 34s, total: 24min 44s\n",
      "Wall time: 53.3 s\n"
     ]
    }
   ],
   "source": [
    "%%time\n",
    "L_proj = np.empty((n_samp, k))\n",
    "#L_ho = np.empty((n_samp, k))\n",
    "for i in range(n_samp):\n",
    "    \n",
    "    if i % 25 == 0:\n",
    "        print(i)\n",
    "    \n",
    "    Up, Sp, Vp = revise_svd(U, S, V, Z[:, i], i)\n",
    "    Fp = Up @ Sp\n",
    "    Fp = Fp / np.linalg.norm(Fp, axis=0, ord=2)\n",
    "    L_proj[i, :] = (Fp.T @ Z[:, i]).T\n",
    "    \n",
    "    #c = np.ones(n_samp, dtype=\"bool\")\n",
    "    #c[i] = False\n",
    "    #Uh, Sh, Vh = ho_svd(X[:, c], k, U)\n",
    "    #Fh = Uh @ Sh\n",
    "    #Fh = Fh / np.linalg.norm(Fh, axis=0, ord=2)\n",
    "    #L_ho[i, :] = (Fh.T @ X[:, i]).T    "
   ]
  },
  {
   "cell_type": "code",
   "execution_count": 28,
   "metadata": {},
   "outputs": [
    {
     "data": {
      "text/plain": [
       "<matplotlib.collections.PathCollection at 0x7fba587a3630>"
      ]
     },
     "execution_count": 28,
     "metadata": {},
     "output_type": "execute_result"
    },
    {
     "data": {
      "image/png": "[encoded data removed]",
      "text/plain": [
       "<Figure size 432x288 with 1 Axes>"
      ]
     },
     "metadata": {},
     "output_type": "display_data"
    }
   ],
   "source": [
    "l = 0\n",
    "m = 1\n",
    "plt.scatter(L[:, l], L[:, m])\n",
    "plt.scatter(L_proj[:, l], L_proj[:, m], color=\"green\")\n",
    "#plt.scatter(L_ho[:, 0], L_ho[:, 1])\n"
   ]
  },
  {
   "cell_type": "markdown",
   "metadata": {},
   "source": [
    "---"
   ]
  },
  {
   "cell_type": "markdown",
   "metadata": {},
   "source": [
    "Run the svd actually holding out that point ... "
   ]
  },
  {
   "cell_type": "code",
   "execution_count": null,
   "metadata": {},
   "outputs": [],
   "source": [
    "j = 192\n",
    "idx = np.zeros(n_samp, dtype=\"bool\")\n",
    "idx[j] = 1 \n",
    "Zs = Z[:, ~idx]\n",
    "Us, Ss, Vs = svd(Zs, k)\n",
    "Fs = Us @ Ss\n",
    "Fs = Fs / np.linalg.norm(Fs, axis=0, ord=2)\n",
    "Ls = (Fs.T @ Z[:, j]).T"
   ]
  },
  {
   "cell_type": "code",
   "execution_count": null,
   "metadata": {},
   "outputs": [],
   "source": [
    "plt.scatter(L[:,0], L[:,1])\n",
    "plt.scatter(L[j, 0], L[j, 1], color=\"black\")\n",
    "plt.scatter(Ls[0], Ls[1], color=\"orange\")"
   ]
  }
 ],
 "metadata": {
  "kernelspec": {
   "display_name": "Python 3",
   "language": "python",
   "name": "python3"
  },
  "language_info": {
   "codemirror_mode": {
    "name": "ipython",
    "version": 3
   },
   "file_extension": ".py",
   "mimetype": "text/x-python",
   "name": "python",
   "nbconvert_exporter": "python",
   "pygments_lexer": "ipython3",
   "version": "3.6.6"
  }
 },
 "nbformat": 4,
 "nbformat_minor": 2
}
