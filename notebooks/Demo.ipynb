{
 "cells": [
  {
   "cell_type": "code",
   "execution_count": 1,
   "metadata": {},
   "outputs": [],
   "source": [
    "import allel\n",
    "import pcshrink\n",
    "import time\n",
    "import pandas as pd\n",
    "import numpy as np\n",
    "import matplotlib.pyplot as plt\n",
    "%matplotlib inline"
   ]
  },
  {
   "cell_type": "markdown",
   "metadata": {},
   "source": [
    "### Read in Data"
   ]
  },
  {
   "cell_type": "code",
   "execution_count": 44,
   "metadata": {},
   "outputs": [],
   "source": [
    "ind2pop = pd.read_table('/Users/chichun/Desktop/MS_thesis/data/sample.list')\n",
    "pops = ['YRI', 'CEU', 'CDX', 'GIH', 'ASW', 'GBR', 'CEU']\n",
    "ind2pop = ind2pop[ind2pop['pop'].isin(pops)]#.sample(frac = .5)"
   ]
  },
  {
   "cell_type": "code",
   "execution_count": 46,
   "metadata": {},
   "outputs": [],
   "source": [
    "# for out-of-sample projection\n",
    "ind2pop_oos = ind2pop.iloc[:255,:]\n",
    "samples_oos = ind2pop_oos['sample'].values\n",
    "# training samples\n",
    "ind2pop = ind2pop.iloc[255:,:]\n",
    "samples = ind2pop['sample'].values"
   ]
  },
  {
   "cell_type": "code",
   "execution_count": 49,
   "metadata": {},
   "outputs": [],
   "source": [
    "callset = allel.read_vcf('/Users/chichun/Desktop/MS_thesis/data/1KG.HO_SNPs.autosomes.vcf.gz', samples = samples, fields='*')\n",
    "gt = allel.GenotypeArray(callset['calldata/GT'])\n",
    "gt = gt.to_n_alt()\n",
    "callset = allel.read_vcf('/Users/chichun/Desktop/MS_thesis/data/1KG.HO_SNPs.autosomes.vcf.gz', samples = samples_oos, fields='*')\n",
    "gt_oos = allel.GenotypeArray(callset['calldata/GT'])\n",
    "gt_oos = gt_oos.to_n_alt()\n",
    "del callset"
   ]
  },
  {
   "cell_type": "markdown",
   "metadata": {},
   "source": [
    "### PCshrink"
   ]
  },
  {
   "cell_type": "code",
   "execution_count": 56,
   "metadata": {},
   "outputs": [],
   "source": [
    "norm = pcshrink.Normalizer(gt, .05, 'patterson')\n",
    "pcsrk = pcshrink.ShrinkageCorrector(norm.Y * np.sqrt(2), 4)"
   ]
  },
  {
   "cell_type": "code",
   "execution_count": 57,
   "metadata": {},
   "outputs": [
    {
     "name": "stdout",
     "output_type": "stream",
     "text": [
      "holding out sample 0\n",
      "holding out sample 100\n",
      "holding out sample 200\n"
     ]
    },
    {
     "data": {
      "text/plain": [
       "94.16160799999989"
      ]
     },
     "execution_count": 57,
     "metadata": {},
     "output_type": "execute_result"
    }
   ],
   "source": [
    "# rank-one downdate\n",
    "t = time.process_time()\n",
    "pcsrk.jackknife(downdate = True, q = 2, o = 100)\n",
    "time.process_time() - t"
   ]
  },
  {
   "cell_type": "code",
   "execution_count": 58,
   "metadata": {},
   "outputs": [
    {
     "data": {
      "text/plain": [
       "array([1.02601575, 1.27485695])"
      ]
     },
     "execution_count": 58,
     "metadata": {},
     "output_type": "execute_result"
    }
   ],
   "source": [
    "pcsrk.tau"
   ]
  },
  {
   "cell_type": "code",
   "execution_count": 59,
   "metadata": {},
   "outputs": [
    {
     "name": "stdout",
     "output_type": "stream",
     "text": [
      "holding out sample 0\n",
      "holding out sample 100\n",
      "holding out sample 200\n"
     ]
    },
    {
     "data": {
      "text/plain": [
       "1346.158507"
      ]
     },
     "execution_count": 59,
     "metadata": {},
     "output_type": "execute_result"
    }
   ],
   "source": [
    "t = time.process_time()\n",
    "pcsrk.jackknife(downdate = False, q = 2, o = 100)\n",
    "time.process_time() - t"
   ]
  },
  {
   "cell_type": "code",
   "execution_count": 60,
   "metadata": {},
   "outputs": [
    {
     "data": {
      "text/plain": [
       "array([1.02601575, 1.27485695])"
      ]
     },
     "execution_count": 60,
     "metadata": {},
     "output_type": "execute_result"
    }
   ],
   "source": [
    "pcsrk.tau"
   ]
  },
  {
   "cell_type": "markdown",
   "metadata": {},
   "source": [
    "### projected samples are shrunk"
   ]
  },
  {
   "cell_type": "code",
   "execution_count": 62,
   "metadata": {},
   "outputs": [
    {
     "data": {
      "text/plain": [
       "<matplotlib.collections.PathCollection at 0xc1b19f2b0>"
      ]
     },
     "execution_count": 62,
     "metadata": {},
     "output_type": "execute_result"
    },
    {
     "data": {
      "image/png": "[encoded data removed]",
      "text/plain": [
       "<Figure size 432x288 with 1 Axes>"
      ]
     },
     "metadata": {
      "needs_background": "light"
     },
     "output_type": "display_data"
    }
   ],
   "source": [
    "plt.scatter(pcsrk.L_shrunk[:,0], pcsrk.L_shrunk[:,1] , c='b')\n",
    "plt.scatter(pcsrk.L[:,0], pcsrk.L[:,1] , c='r')"
   ]
  }
 ],
 "metadata": {
  "kernelspec": {
   "display_name": "Python 3",
   "language": "python",
   "name": "python3"
  },
  "language_info": {
   "codemirror_mode": {
    "name": "ipython",
    "version": 3
   },
   "file_extension": ".py",
   "mimetype": "text/x-python",
   "name": "python",
   "nbconvert_exporter": "python",
   "pygments_lexer": "ipython3",
   "version": "3.6.7"
  }
 },
 "nbformat": 4,
 "nbformat_minor": 2
}
