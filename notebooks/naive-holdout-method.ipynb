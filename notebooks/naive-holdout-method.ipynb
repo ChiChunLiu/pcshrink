{
 "cells": [
  {
   "cell_type": "markdown",
   "metadata": {},
   "source": [
    "*A notebook on a naive shrinkage correction approach where we just run PCA holding 1 single sample at a time for every sample ...*"
   ]
  },
  {
   "cell_type": "markdown",
   "metadata": {},
   "source": [
    "# Imports"
   ]
  },
  {
   "cell_type": "code",
   "execution_count": null,
   "metadata": {},
   "outputs": [],
   "source": [
    "import numpy as np\n",
    "import matplotlib.pyplot as plt\n",
    "from matplotlib import collections as mc\n",
    "import pandas as pd\n",
    "\n",
    "import pcshrink"
   ]
  },
  {
   "cell_type": "markdown",
   "metadata": {},
   "source": [
    "# Data prep"
   ]
  },
  {
   "cell_type": "code",
   "execution_count": null,
   "metadata": {},
   "outputs": [],
   "source": [
    "%%time\n",
    "data = pcshrink.UnpackedAncestryMap(\"/project/jnovembre/jhmarcus/ancient-sardinia/data/ref_genotypes/7-11-2018/lazaridis_2014/data_fil\")"
   ]
  },
  {
   "cell_type": "code",
   "execution_count": null,
   "metadata": {},
   "outputs": [],
   "source": [
    "print(data.n, data.p)"
   ]
  },
  {
   "cell_type": "markdown",
   "metadata": {},
   "source": [
    "Find snps that are too rare or too common"
   ]
  },
  {
   "cell_type": "code",
   "execution_count": null,
   "metadata": {},
   "outputs": [],
   "source": [
    "# use allele frequency estimator from Price et al. 2006\n",
    "f = (1. + np.nansum(data.Y, axis=1)) / (2 + (2. * data.n))\n",
    "\n",
    "# keep snps that aren't too rare or common\n",
    "snp_idx = np.where((f > .02) & (f < .98))[0]\n",
    "print(f.shape, snp_idx.shape)"
   ]
  },
  {
   "cell_type": "markdown",
   "metadata": {},
   "source": [
    "Mean center and scale and impute missing values to 0"
   ]
  },
  {
   "cell_type": "code",
   "execution_count": null,
   "metadata": {},
   "outputs": [],
   "source": [
    "Z = data.Y[snp_idx, :]\n",
    "\n",
    "# mean genotype \n",
    "mu = np.nanmean(Z, axis=1).reshape(len(snp_idx), 1)\n",
    "\n",
    "# empirical std deviation\n",
    "std = np.nanstd(Z, axis=1).reshape(len(snp_idx), 1)\n",
    "\n",
    "# heterozygosity scaler\n",
    "het = np.sqrt(2. * f[snp_idx] * (1. - f[snp_idx])).reshape(len(snp_idx), 1)\n",
    "\n",
    "Z = (Z - mu) / het\n",
    "Z[np.isnan(Z)] = 0.0"
   ]
  },
  {
   "cell_type": "code",
   "execution_count": null,
   "metadata": {},
   "outputs": [],
   "source": [
    "plt.scatter(het, std)\n",
    "plt.xlabel(\"Het Scaler\");\n",
    "plt.ylabel(\"Emprical Std\");"
   ]
  },
  {
   "cell_type": "markdown",
   "metadata": {},
   "source": [
    "# PCA"
   ]
  },
  {
   "cell_type": "code",
   "execution_count": null,
   "metadata": {},
   "outputs": [],
   "source": [
    "%%time\n",
    "k = 10\n",
    "pc = pcshrink.PCShrinker(Z, k)"
   ]
  },
  {
   "cell_type": "code",
   "execution_count": null,
   "metadata": {},
   "outputs": [],
   "source": [
    "plt.scatter(pc.L[:,0], -pc.L[:,1])\n",
    "plt.xlabel(\"PC1\");\n",
    "plt.ylabel(\"PC2\");"
   ]
  },
  {
   "cell_type": "code",
   "execution_count": null,
   "metadata": {},
   "outputs": [],
   "source": [
    "L_shrunk = pc.shrink_coords(k=2, s=100, o=5)"
   ]
  },
  {
   "cell_type": "code",
   "execution_count": null,
   "metadata": {},
   "outputs": [],
   "source": [
    "L_shrunk"
   ]
  },
  {
   "cell_type": "markdown",
   "metadata": {},
   "source": [
    "Plot PC1 vs PC2"
   ]
  },
  {
   "cell_type": "code",
   "execution_count": null,
   "metadata": {},
   "outputs": [],
   "source": [
    "%%time\n",
    "\n",
    "K = 10\n",
    "q = data.n\n",
    "L_proj = np.empty((q, K))\n",
    "\n",
    "for i in range(q):\n",
    "    \n",
    "    print(i)\n",
    "    \n",
    "    idx = np.ones(data.n, dtype=\"bool\")\n",
    "    idx[i] = False\n",
    "    \n",
    "    z = Z[:, i]\n",
    "    Z_train = Z[:, idx]\n",
    "    \n",
    "    L_proj[i, :] = holdout_pca(z, Z_train, K)\n",
    "    \n",
    "#np.save(\"data/L_proj\", L_proj)"
   ]
  },
  {
   "cell_type": "code",
   "execution_count": null,
   "metadata": {},
   "outputs": [],
   "source": [
    "#L_proj = L_proj / np.linalg.norm(L_proj, axis=0, ord=2)"
   ]
  },
  {
   "cell_type": "code",
   "execution_count": null,
   "metadata": {},
   "outputs": [],
   "source": [
    "plt.scatter(L[:, 0], -L[:,1])"
   ]
  },
  {
   "cell_type": "code",
   "execution_count": null,
   "metadata": {},
   "outputs": [],
   "source": [
    "plt.scatter(L_proj[:, 0], -L_proj[:, 1])"
   ]
  },
  {
   "cell_type": "code",
   "execution_count": null,
   "metadata": {},
   "outputs": [],
   "source": [
    "plt.figure(figsize=(12, 8))\n",
    "#plt.quiver(L_proj[0,0], -L_proj[0,1], L[0,0], -L[0,1],)\n",
    "plt.quiver(L[:,0], -L[:,1], L_proj[:,0]-L[:,0], -(L_proj[:,1]-L[:,1]))\n",
    "\n",
    "plt.xlabel(\"PC1\");\n",
    "plt.ylabel(\"PC2\");\n",
    "plt.tight_layout()"
   ]
  },
  {
   "cell_type": "code",
   "execution_count": null,
   "metadata": {},
   "outputs": [],
   "source": [
    "#plt.quiver(X=L[:,0], Y=-L[:,1], U=L_proj[:,0], V=-L_proj[:,1])\n",
    "#plt.xlabel(\"PC1\");\n",
    "#plt.ylabel(\"PC2\");\n",
    "\n",
    "lines = []\n",
    "for i in range(L.shape[0]):\n",
    "    lines.append([(L[i, 0], -L[i, 1]), (L_proj[i, 0], -L_proj[i, 1])])\n",
    "    \n",
    "lc = mc.LineCollection(lines, linewidths=2, colors=\"black\")\n",
    "fig, ax = plt.subplots(figsize=(12, 8))\n",
    "ax.add_collection(lc)\n",
    "ax.autoscale()\n",
    "\n",
    "plt.xlabel(\"PC1\")\n",
    "plt.ylabel(\"PC2\")"
   ]
  },
  {
   "cell_type": "code",
   "execution_count": null,
   "metadata": {},
   "outputs": [],
   "source": [
    "np.random.choice(Z.shape[0], 10, replace=False)"
   ]
  },
  {
   "cell_type": "code",
   "execution_count": null,
   "metadata": {},
   "outputs": [],
   "source": []
  }
 ],
 "metadata": {
  "kernelspec": {
   "display_name": "Python 3",
   "language": "python",
   "name": "python3"
  },
  "language_info": {
   "codemirror_mode": {
    "name": "ipython",
    "version": 3
   },
   "file_extension": ".py",
   "mimetype": "text/x-python",
   "name": "python",
   "nbconvert_exporter": "python",
   "pygments_lexer": "ipython3",
   "version": "3.6.6"
  }
 },
 "nbformat": 4,
 "nbformat_minor": 2
}
