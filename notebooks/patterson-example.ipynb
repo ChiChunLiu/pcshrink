{
 "cells": [
  {
   "cell_type": "markdown",
   "metadata": {},
   "source": [
    "## Import"
   ]
  },
  {
   "cell_type": "code",
   "execution_count": 2,
   "metadata": {},
   "outputs": [],
   "source": [
    "import numpy as np\n",
    "import pandas as pd\n",
    "import matplotlib.pyplot as plt\n",
    "import pcshrink\n",
    "\n",
    "plt.style.use(\"ggplot\")"
   ]
  },
  {
   "cell_type": "markdown",
   "metadata": {},
   "source": [
    "## Functions"
   ]
  },
  {
   "cell_type": "code",
   "execution_count": 3,
   "metadata": {},
   "outputs": [],
   "source": [
    "def get_genotype_matrix(geno_path, n, p):\n",
    "    \"\"\"Gets the genotype matrix stored as a\n",
    "    numpy array\n",
    "    \"\"\"\n",
    "    # read the geno file\n",
    "    with open(geno_path, \"r\") as f:\n",
    "        matstr = f.read().replace(\"\\n\", \"\")\n",
    "\n",
    "    # convert to long array\n",
    "    ys = np.fromstring(matstr, dtype=np.int8) - 48\n",
    "    \n",
    "    # reshape to p x n matrix\n",
    "    Y = ys.reshape(p, n).astype(np.float32)\n",
    "    \n",
    "    # replace 9s with nans\n",
    "    Y[Y == 9] = np.nan\n",
    "    \n",
    "    return(Y)"
   ]
  },
  {
   "cell_type": "markdown",
   "metadata": {},
   "source": [
    "## Experiment"
   ]
  },
  {
   "cell_type": "markdown",
   "metadata": {},
   "source": [
    "Read the data ..."
   ]
  },
  {
   "cell_type": "code",
   "execution_count": 63,
   "metadata": {},
   "outputs": [
    {
     "name": "stdout",
     "output_type": "stream",
     "text": [
      "(120631, 60)\n",
      "         ind sex    clst\n",
      "0  HGDP00511   M  French\n",
      "1  HGDP00512   M  French\n",
      "2  HGDP00513   F  French\n",
      "3  HGDP00514   F  French\n",
      "4  HGDP00515   M  French\n",
      "(120083,)\n",
      "             snp  chrom        cm      pos a1 a2\n",
      "0  Affx-15871758      1  0.025727   949654  A  G\n",
      "1   Affx-3979904      1  0.026674  1048955  A  G\n",
      "2   Affx-4572154      1  0.029335  1156131  T  C\n",
      "3   Affx-4575207      1  0.029356  1157547  T  C\n",
      "4   Affx-4584321      1  0.029391  1161780  C  T\n"
     ]
    },
    {
     "name": "stderr",
     "output_type": "stream",
     "text": [
      "/project/jnovembre/jhmarcus/src/miniconda3/envs/pcshrink_e/lib/python3.7/site-packages/ipykernel_launcher.py:10: DeprecationWarning: The binary mode of fromstring is deprecated, as it behaves surprisingly on unicode inputs. Use frombuffer instead\n",
      "  # Remove the CWD from sys.path while we load stuff.\n"
     ]
    }
   ],
   "source": [
    "n = 60\n",
    "p = 120631\n",
    "k = 2\n",
    "\n",
    "#### genoty mat ####\n",
    "Y = get_genotype_matrix(\"../data/yfhx.geno\", n=60, p=120631)\n",
    "print(Y.shape)\n",
    "\n",
    "#### ind df ####\n",
    "ind_df = pd.read_table(\"../data/yfhx.ind\", sep=\"\\s+\", header=None)\n",
    "ind_df.columns = [\"ind\", \"sex\", \"clst\"]\n",
    "print(ind_df.head())\n",
    "\n",
    "#### snp df ####\n",
    "snp_df = pd.read_table(\"../data/yfhx.snp\", sep=\"\\s+\", header=None)\n",
    "snp_df.columns = [\"snp\", \"chrom\", \"cm\", \"pos\", \"a1\", \"a2\"]\n",
    "auto_idx = snp_df[snp_df[\"chrom\"] <= 22].index\n",
    "print(auto_idx.shape)\n",
    "print(snp_df.head())"
   ]
  },
  {
   "cell_type": "markdown",
   "metadata": {},
   "source": [
    "Split inds into test / train ..."
   ]
  },
  {
   "cell_type": "code",
   "execution_count": 64,
   "metadata": {},
   "outputs": [],
   "source": [
    "test_idx = np.array([x[-1] == \"X\" for x in ind_df[\"clst\"].values])\n",
    "Y_train = Y[auto_idx, :][:, ~test_idx]\n",
    "Y_test = Y[auto_idx, :][:, test_idx]\n",
    "\n",
    "ind_train_df = ind_df.iloc[~test_idx]\n",
    "ind_test_df = ind_df.iloc[test_idx]"
   ]
  },
  {
   "cell_type": "markdown",
   "metadata": {},
   "source": [
    "Normalize the data and run intial PCA"
   ]
  },
  {
   "cell_type": "code",
   "execution_count": 85,
   "metadata": {},
   "outputs": [],
   "source": [
    "norm = pcshrink.Normalizer(Y_train, eps=0.05, scale_type=\"patterson\")\n",
    "pc = pcshrink.ShrinkageCorrector(norm.Y, k=k)\n",
    "L = pc.L"
   ]
  },
  {
   "cell_type": "markdown",
   "metadata": {},
   "source": [
    "Estimate the shrinkage correction factor using jackknife"
   ]
  },
  {
   "cell_type": "code",
   "execution_count": 86,
   "metadata": {},
   "outputs": [
    {
     "name": "stdout",
     "output_type": "stream",
     "text": [
      "holding out sample 0\n",
      "holding out sample 5\n",
      "holding out sample 10\n",
      "holding out sample 15\n",
      "holding out sample 20\n",
      "holding out sample 25\n",
      "[1.25870347 1.3992341 ]\n"
     ]
    }
   ],
   "source": [
    "pc.jackknife(q=k, o=5, downdate=False)\n",
    "print(pc.tau)"
   ]
  },
  {
   "cell_type": "markdown",
   "metadata": {},
   "source": [
    "Fast rank-1 downdate estimator ..."
   ]
  },
  {
   "cell_type": "code",
   "execution_count": 87,
   "metadata": {},
   "outputs": [
    {
     "name": "stdout",
     "output_type": "stream",
     "text": [
      "holding out sample 0\n",
      "holding out sample 5\n",
      "holding out sample 10\n",
      "holding out sample 15\n",
      "holding out sample 20\n",
      "holding out sample 25\n",
      "[1.25870342 1.39923455]\n"
     ]
    }
   ],
   "source": [
    "pc.jackknife(q=k, o=5, downdate=True)\n",
    "print(pc.tau)"
   ]
  },
  {
   "cell_type": "markdown",
   "metadata": {},
   "source": [
    "Normalize test data with mean and scale of training dataset and project on to training pcs ..."
   ]
  },
  {
   "cell_type": "code",
   "execution_count": 88,
   "metadata": {},
   "outputs": [
    {
     "name": "stderr",
     "output_type": "stream",
     "text": [
      "/project/jnovembre/jhmarcus/src/miniconda3/envs/pcshrink_e/lib/python3.7/site-packages/pcshrink/correct.py:276: FutureWarning: `rcond` parameter will change to the default of machine precision times ``max(M, N)`` where M and N are the input matrix dimensions.\n",
      "To use the future default and silence this warning we advise to pass `rcond=None`, to keep using the old, explicitly pass `rcond=-1`.\n",
      "  l = np.linalg.lstsq(F, y)[0]\n"
     ]
    }
   ],
   "source": [
    "Z_test = (Y_test[norm.snp_idx, :] - norm.mu) / norm.s\n",
    "L_test = np.empty((int(n/2), k))\n",
    "for i in range(int(n/2)):\n",
    "    L_test[i, :] = pc.lstsq_project(Z_test[:, i], k)"
   ]
  },
  {
   "cell_type": "markdown",
   "metadata": {},
   "source": [
    "Plot the results!"
   ]
  },
  {
   "cell_type": "code",
   "execution_count": 89,
   "metadata": {},
   "outputs": [
    {
     "data": {
      "text/plain": [
       "<matplotlib.legend.Legend at 0x7fa246373f98>"
      ]
     },
     "execution_count": 89,
     "metadata": {},
     "output_type": "execute_result"
    },
    {
     "data": {
      "image/png": "[encoded data removed]",
      "text/plain": [
       "<Figure size 576x576 with 1 Axes>"
      ]
     },
     "metadata": {},
     "output_type": "display_data"
    }
   ],
   "source": [
    "plt.figure(figsize=(8,8))\n",
    "\n",
    "c_dict = {\"French\": \"green\", \"Yoruba\": \"purple\", \"Han\": \"blue\"}\n",
    "c_train = [c_dict[x] for x in ind_train_df[\"clst\"].values]\n",
    "c_test =  [c_dict[x.strip(\"X\")] for x in ind_test_df[\"clst\"].values]\n",
    "\n",
    "plt.scatter(L[:, 0], L[:, 1], c=c_train, label=\"Train\", alpha=.5)\n",
    "plt.scatter(L_test[:, 0], L_test[:, 1], c=c_train, label=\"Test-Uncorrected\", marker=\"^\", alpha=.5)\n",
    "plt.scatter(pc.tau[0] * L_test[:, 0], \n",
    "            pc.tau[1] * L_test[:, 1], \n",
    "            c=c_train, label=\"Test-Corrected\", marker=\"x\", alpha=.5)\n",
    "\n",
    "plt.xlabel(\"PC1\")\n",
    "plt.ylabel(\"PC2\")\n",
    "plt.legend()"
   ]
  },
  {
   "cell_type": "markdown",
   "metadata": {},
   "source": [
    "## Compare to EigenStrat"
   ]
  },
  {
   "cell_type": "markdown",
   "metadata": {},
   "source": [
    "`TODO`"
   ]
  }
 ],
 "metadata": {
  "kernelspec": {
   "display_name": "Python 3",
   "language": "python",
   "name": "python3"
  },
  "language_info": {
   "codemirror_mode": {
    "name": "ipython",
    "version": 3
   },
   "file_extension": ".py",
   "mimetype": "text/x-python",
   "name": "python",
   "nbconvert_exporter": "python",
   "pygments_lexer": "ipython3",
   "version": "3.7.0"
  }
 },
 "nbformat": 4,
 "nbformat_minor": 2
}
