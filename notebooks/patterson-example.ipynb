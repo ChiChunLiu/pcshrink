{
 "cells": [
  {
   "cell_type": "code",
   "execution_count": 1,
   "metadata": {},
   "outputs": [],
   "source": [
    "import numpy as np\n",
    "import matplotlib.pyplot as plt\n",
    "import pandas as pd\n",
    "from scipy.sparse.linalg import svds\n",
    "from sklearn.utils.extmath import svd_flip\n",
    "import pcshrink"
   ]
  },
  {
   "cell_type": "code",
   "execution_count": 2,
   "metadata": {},
   "outputs": [],
   "source": [
    "data = pcshrink.UnpackedAncestryMap(\"data/patterson_example/forjn/yfhx\")\n",
    "norm = pcshrink.Normalizer(data.Y, .05, \"patterson\")"
   ]
  },
  {
   "cell_type": "code",
   "execution_count": 3,
   "metadata": {},
   "outputs": [],
   "source": [
    "def svd(Y, k):\n",
    "    \n",
    "    U, S, VT = svds(Y, k)\n",
    "\n",
    "    # singular values\n",
    "    S = np.diag(S[::-1])\n",
    "\n",
    "    U, VT = svd_flip(U[:, ::-1], VT[::-1])\n",
    "\n",
    "    V = VT.T\n",
    "    \n",
    "    return(U, S, V)\n",
    "\n",
    "def orient_sign(U, U_ref):\n",
    "    \"\"\"\n",
    "    \"\"\"\n",
    "    p, k = U.shape\n",
    "    D = np.zeros((k, k))\n",
    "    for i in range(k):\n",
    "        D[i, i] = np.sign(np.corrcoef(U[:, i], U_ref[:, i])[0, 1])\n",
    "    \n",
    "    U = U @ D\n",
    "    \n",
    "    return(U)"
   ]
  },
  {
   "cell_type": "code",
   "execution_count": 154,
   "metadata": {},
   "outputs": [
    {
     "data": {
      "text/plain": [
       "(60, 20)"
      ]
     },
     "execution_count": 154,
     "metadata": {},
     "output_type": "execute_result"
    }
   ],
   "source": [
    "Y = norm.Y\n",
    "p, n = Y.shape\n",
    "k = 20\n",
    "U, S, V = svd(Y, k)\n",
    "V = ((U @ S).T @ Y).T\n",
    "V /= np.linalg.norm(V, axis=0)\n",
    "\n",
    "V.shape"
   ]
  },
  {
   "cell_type": "code",
   "execution_count": 155,
   "metadata": {},
   "outputs": [
    {
     "data": {
      "text/plain": [
       "<matplotlib.collections.PathCollection at 0x7f3ab8e7a208>"
      ]
     },
     "execution_count": 155,
     "metadata": {},
     "output_type": "execute_result"
    },
    {
     "data": {
      "image/png": "[encoded data removed]",
      "text/plain": [
       "<Figure size 432x288 with 1 Axes>"
      ]
     },
     "metadata": {},
     "output_type": "display_data"
    }
   ],
   "source": [
    "plt.scatter(V[:, 0], V[:, 1])"
   ]
  },
  {
   "cell_type": "code",
   "execution_count": 225,
   "metadata": {},
   "outputs": [],
   "source": [
    "n_pop = 50000 # number of sample indiviudals to simulatie\n",
    "U_pop = U\n",
    "S_pop = S\n",
    "V_pop = V[np.random.randint(0, n, n_train + n_test), :] + np.random.normal(0, 0.01, size=(n_train + n_test, k))\n",
    "\n",
    "n_train = 100\n",
    "n_test = 100\n",
    "\n",
    "V_samp = V_pop[np.random.randint(0, n, n_train + n_test), :] \n",
    "Y_samp = U @ S @ V_samp.T\n",
    "\n",
    "#n_test = 50 # number of projected individuals to simulation \n",
    "# genotypes of both training and test individuals\n",
    "#Y_sim = np.empty((p, n_train + n_test)) \n",
    "# sampling variance for genotypes\n",
    "#sigma2_train = 1\n",
    "# \"simulate\" population positions by random sampling the original + noise\n",
    "# simulation genotypes\n",
    "#Y_sim = (U @ S @ V_true.T) + np.random.normal(0, sigma2_train, (p, n_train + n_test))"
   ]
  },
  {
   "cell_type": "code",
   "execution_count": 235,
   "metadata": {},
   "outputs": [
    {
     "data": {
      "text/plain": [
       "<matplotlib.collections.PathCollection at 0x7f3ab82575f8>"
      ]
     },
     "execution_count": 235,
     "metadata": {},
     "output_type": "execute_result"
    },
    {
     "data": {
      "image/png": "[encoded data removed]",
      "text/plain": [
       "<Figure size 432x288 with 1 Axes>"
      ]
     },
     "metadata": {},
     "output_type": "display_data"
    }
   ],
   "source": [
    "plt.scatter(V_true[:,0], V_true[:, 1])"
   ]
  },
  {
   "cell_type": "code",
   "execution_count": 236,
   "metadata": {},
   "outputs": [],
   "source": [
    "# split into test and train\n",
    "Y_train = Y_samp[:, :n_train]\n",
    "Y_test = Y_samp[:, n_train:]"
   ]
  },
  {
   "cell_type": "code",
   "execution_count": 237,
   "metadata": {},
   "outputs": [
    {
     "name": "stdout",
     "output_type": "stream",
     "text": [
      "CPU times: user 1min 14s, sys: 4.58 s, total: 1min 19s\n",
      "Wall time: 2.91 s\n"
     ]
    }
   ],
   "source": [
    "%%time\n",
    "r = 2\n",
    "U_train, S_train, V_train = svd(Y_train, r)\n",
    "V_train = V_train / np.linalg.norm(V_train, axis=0)\n",
    "\n",
    "#V_train = ((U @ S).T @ Y_train).T\n",
    "\n",
    "# normalize to unit variance for each column\n",
    "#V_train = V_train / np.linalg.norm(V_train, axis=0)"
   ]
  },
  {
   "cell_type": "code",
   "execution_count": 238,
   "metadata": {},
   "outputs": [],
   "source": [
    "# project onto training pcs \n",
    "#V_test = ((U @ S).T @ Y_test).T\n",
    "V_test = ((U_train @ S_train).T @ Y_test).T\n",
    "\n",
    "# normalize to unit variance for each column\n",
    "V_test = V_test / np.linalg.norm(V_test, axis=0)\n",
    "#np.linalg.norm(V_test, axis=0)"
   ]
  },
  {
   "cell_type": "code",
   "execution_count": 241,
   "metadata": {},
   "outputs": [
    {
     "data": {
      "text/plain": [
       "<matplotlib.legend.Legend at 0x7f3ab8115b00>"
      ]
     },
     "execution_count": 241,
     "metadata": {},
     "output_type": "execute_result"
    },
    {
     "data": {
      "image/png": "[encoded data removed]",
      "text/plain": [
       "<Figure size 432x288 with 1 Axes>"
      ]
     },
     "metadata": {},
     "output_type": "display_data"
    }
   ],
   "source": [
    "plt.scatter(V_true[:, 0], V_true[:, 1], label=\"Population\", alpha=.01)\n",
    "plt.scatter(V_train[:, 0], V_train[:, 1], label=\"Train\")\n",
    "plt.scatter(V_test[:, 0], V_test[:, 1], label=\"Test\")\n",
    "plt.legend()"
   ]
  },
  {
   "cell_type": "code",
   "execution_count": 243,
   "metadata": {},
   "outputs": [
    {
     "data": {
      "text/plain": [
       "<matplotlib.collections.PathCollection at 0x7f3ab8061828>"
      ]
     },
     "execution_count": 243,
     "metadata": {},
     "output_type": "execute_result"
    },
    {
     "data": {
      "image/png": "[encoded data removed]",
      "text/plain": [
       "<Figure size 432x288 with 1 Axes>"
      ]
     },
     "metadata": {},
     "output_type": "display_data"
    }
   ],
   "source": [
    "V_sim = ((U @ S).T @ Y_samp).T\n",
    "V_sim /= np.linalg.norm(V_sim, axis=0)\n",
    "plt.scatter(V_true[:, 0], V_true[:, 1], label=\"Population\")\n",
    "plt.scatter(V_sim[:, 0], V_sim[:, 1], label=\"Population\")"
   ]
  },
  {
   "cell_type": "markdown",
   "metadata": {},
   "source": [
    "---"
   ]
  },
  {
   "cell_type": "code",
   "execution_count": null,
   "metadata": {},
   "outputs": [],
   "source": [
    "k = 50\n",
    "n_train = 100\n",
    "n_test = 100\n",
    "n = n_train + n_test\n",
    "p = 50000\n",
    "L = np.random.normal(size=(n, k))\n",
    "F = np.random.normal(size=(p, k))\n",
    "M = (L @ F.T).T\n",
    "\n",
    "U, S, V = svd(M, k)\n",
    "M = U @ S @ V.T\n",
    "Y = M + np.random.normal(0, 1, size=(p, n))\n",
    "\n",
    "Y_train = Y[:, :n_train]\n",
    "Y_test = Y[:, :n_test]"
   ]
  },
  {
   "cell_type": "code",
   "execution_count": null,
   "metadata": {},
   "outputs": [],
   "source": [
    "U_train, S_train, V_train = svd(Y_train, 2)\n",
    "V_train /= np.linalg.norm(V_train, axis=0)"
   ]
  },
  {
   "cell_type": "code",
   "execution_count": null,
   "metadata": {},
   "outputs": [],
   "source": [
    "V_test = ((U_train @ S_train).T @ Y_test).T\n",
    "V_test /= np.linalg.norm(V_test, axis=0)"
   ]
  },
  {
   "cell_type": "code",
   "execution_count": null,
   "metadata": {},
   "outputs": [],
   "source": [
    "plt.scatter(V[:, 0], V[:, 1], color=\"black\")\n",
    "plt.scatter(V_train[:, 0], V_train[:, 1], )\n",
    "plt.scatter(V_test[:, 0], V_test[:, 1])"
   ]
  },
  {
   "cell_type": "code",
   "execution_count": null,
   "metadata": {},
   "outputs": [],
   "source": []
  }
 ],
 "metadata": {
  "kernelspec": {
   "display_name": "Python 3",
   "language": "python",
   "name": "python3"
  },
  "language_info": {
   "codemirror_mode": {
    "name": "ipython",
    "version": 3
   },
   "file_extension": ".py",
   "mimetype": "text/x-python",
   "name": "python",
   "nbconvert_exporter": "python",
   "pygments_lexer": "ipython3",
   "version": "3.6.6"
  }
 },
 "nbformat": 4,
 "nbformat_minor": 2
}
