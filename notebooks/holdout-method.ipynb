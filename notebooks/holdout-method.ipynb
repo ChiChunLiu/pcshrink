{
 "cells": [
  {
   "cell_type": "markdown",
   "metadata": {},
   "source": [
    "*A notebook on a shrinkage correction approach where we just run PCA holding 1 single sample at a time for every sample ...*"
   ]
  },
  {
   "cell_type": "markdown",
   "metadata": {},
   "source": [
    "# Imports"
   ]
  },
  {
   "cell_type": "code",
   "execution_count": 1,
   "metadata": {},
   "outputs": [],
   "source": [
    "import numpy as np\n",
    "import matplotlib.pyplot as plt\n",
    "from matplotlib import collections as mc\n",
    "import pandas as pd\n",
    "\n",
    "import pcshrink"
   ]
  },
  {
   "cell_type": "markdown",
   "metadata": {},
   "source": [
    "# Data prep"
   ]
  },
  {
   "cell_type": "markdown",
   "metadata": {},
   "source": [
    "Read in the human origins west eurasian data"
   ]
  },
  {
   "cell_type": "code",
   "execution_count": 2,
   "metadata": {},
   "outputs": [
    {
     "name": "stdout",
     "output_type": "stream",
     "text": [
      "CPU times: user 7.56 s, sys: 2.56 s, total: 10.1 s\n",
      "Wall time: 8.06 s\n"
     ]
    }
   ],
   "source": [
    "%%time\n",
    "data = pcshrink.UnpackedAncestryMap(\"/project/jnovembre/jhmarcus/ancient-sardinia/data/ref_genotypes/7-11-2018/lazaridis_2014/data_fil\")"
   ]
  },
  {
   "cell_type": "markdown",
   "metadata": {},
   "source": [
    "extract a subset just for experimentation"
   ]
  },
  {
   "cell_type": "code",
   "execution_count": 3,
   "metadata": {},
   "outputs": [],
   "source": [
    "clst_str = \"\"\"HGDP01062   F   Sardinian\n",
    "HGDP01063   M   Sardinian\n",
    "HGDP01064   F   Sardinian\n",
    "HGDP01065   F   Sardinian\n",
    "HGDP01066   M   Sardinian\n",
    "HGDP01067   M   Sardinian\n",
    "HGDP01068   F   Sardinian\n",
    "HGDP01069   M   Sardinian\n",
    "HGDP01070   F   Sardinian\n",
    "HGDP01071   M   Sardinian\n",
    "HGDP01072   F   Sardinian\n",
    "HGDP01073   M   Sardinian\n",
    "HGDP01074   F   Sardinian\n",
    "HGDP01075   M   Sardinian\n",
    "HGDP01076   M   Sardinian\n",
    "HGDP01077   M   Sardinian\n",
    "HGDP01078   F   Sardinian\n",
    "HGDP01079   M   Sardinian\n",
    "HGDP01381   F   Adygei\n",
    "HGDP01382   F   Adygei\n",
    "HGDP01383   M   Adygei\n",
    "HGDP01385   M   Adygei\n",
    "HGDP01386   F   Adygei\n",
    "HGDP01387   F   Adygei\n",
    "HGDP01396   M   Adygei\n",
    "HGDP01397   M   Adygei\n",
    "HGDP01398   F   Adygei\n",
    "HGDP01399   F   Adygei\n",
    "HGDP01400   F   Adygei\n",
    "HGDP01401   F   Adygei\n",
    "HGDP01402   M   Adygei\n",
    "HGDP01403   M   Adygei\n",
    "HGDP01404   M   Adygei\n",
    "HGDP00511   M   French\n",
    "HGDP00512   M   French\n",
    "HGDP00513   F   French\n",
    "HGDP00514   F   French\n",
    "HGDP00515   M   French\n",
    "HGDP00516   F   French\n",
    "HGDP00517   F   French\n",
    "HGDP00518   M   French\n",
    "HGDP00519   M   French\n",
    "HGDP00522   M   French\n",
    "HGDP00523   F   French\n",
    "HGDP00524   F   French\n",
    "HGDP00525   M   French\n",
    "HGDP00526   F   French\n",
    "HGDP00527   F   French\n",
    "HGDP00528   M   French\n",
    "HGDP00529   F   French\n",
    "HGDP00531   F   French\n",
    "HGDP00533   M   French\n",
    "HGDP00534   F   French\n",
    "HGDP00535   F   French\n",
    "HGDP00536   F   French\n",
    "HGDP00537   F   French\n",
    "HGDP00538   M   French\n",
    "HGDP00539   F   French\"\"\"\n"
   ]
  },
  {
   "cell_type": "code",
   "execution_count": 4,
   "metadata": {},
   "outputs": [
    {
     "name": "stderr",
     "output_type": "stream",
     "text": [
      "/project/jnovembre/jhmarcus/src/miniconda3/envs/pcshrink_env/lib/python3.6/site-packages/ipykernel_launcher.py:50: FutureWarning: Method .as_matrix will be removed in a future version. Use .values instead.\n"
     ]
    }
   ],
   "source": [
    "clst_str = \"\"\"HGDP01062   F   Sardinian\n",
    "HGDP01063   M   Sardinian\n",
    "HGDP01064   F   Sardinian\n",
    "HGDP01065   F   Sardinian\n",
    "HGDP01066   M   Sardinian\n",
    "HGDP01067   M   Sardinian\n",
    "HGDP01068   F   Sardinian\n",
    "HGDP01069   M   Sardinian\n",
    "HGDP01070   F   Sardinian\n",
    "HGDP01071   M   Sardinian\n",
    "HGDP01072   F   Sardinian\n",
    "HGDP01073   M   Sardinian\n",
    "HGDP01074   F   Sardinian\n",
    "HGDP01075   M   Sardinian\n",
    "HGDP01076   M   Sardinian\n",
    "HGDP01077   M   Sardinian\n",
    "HGDP01078   F   Sardinian\n",
    "HGDP01079   M   Sardinian\n",
    "HGDP01381   F   Adygei\n",
    "HGDP01382   F   Adygei\n",
    "HGDP01383   M   Adygei\n",
    "HGDP01385   M   Adygei\n",
    "HGDP01386   F   Adygei\n",
    "HGDP01387   F   Adygei\n",
    "HGDP01396   M   Adygei\n",
    "HGDP01397   M   Adygei\n",
    "HGDP01398   F   Adygei\n",
    "HGDP01399   F   Adygei\n",
    "HGDP01400   F   Adygei\n",
    "HGDP01401   F   Adygei\n",
    "HGDP01402   M   Adygei\n",
    "HGDP01403   M   Adygei\n",
    "HGDP01404   M   Adygei\n",
    "HGDP00511   M   French\n",
    "HGDP00512   M   French\n",
    "HGDP00513   F   French\n",
    "HGDP00514   F   French\n",
    "HGDP00515   M   French\n",
    "\"\"\"\n",
    "\n",
    "\n",
    "clsts = list(map(lambda x: x.split('   '), clst_str.split(\"\\n\")))\n",
    "clst_df = pd.DataFrame(clsts)\n",
    "clst_df.columns = [\"iid\", \"sex\", \"clst\"]\n",
    "\n",
    "ind_df = pd.DataFrame({\"iid\": data.inds})\n",
    "ind_df\n",
    "\n",
    "mrg_df = ind_df.reset_index().merge(clst_df, how=\"inner\", on=\"iid\")\n",
    "idx = mrg_df[\"index\"].as_matrix()"
   ]
  },
  {
   "cell_type": "code",
   "execution_count": 21,
   "metadata": {},
   "outputs": [
    {
     "name": "stdout",
     "output_type": "stream",
     "text": [
      "594924 777\n"
     ]
    }
   ],
   "source": [
    "#Y = data.Y[:, idx]\n",
    "Y = data.Y\n",
    "p, n = Y.shape\n",
    "print(p, n)"
   ]
  },
  {
   "cell_type": "markdown",
   "metadata": {},
   "source": [
    "Find snps that are too rare or too common"
   ]
  },
  {
   "cell_type": "code",
   "execution_count": 22,
   "metadata": {},
   "outputs": [
    {
     "name": "stdout",
     "output_type": "stream",
     "text": [
      "(594924,) (426765,)\n"
     ]
    }
   ],
   "source": [
    "# use allele frequency estimator from Price et al. 2006\n",
    "f = (1. + np.nansum(Y, axis=1)) / (2 + (2. * n))\n",
    "\n",
    "# keep snps that aren't too rare or common\n",
    "snp_idx = np.where((f > .02) & (f < .98))[0]\n",
    "print(f.shape, snp_idx.shape)"
   ]
  },
  {
   "cell_type": "markdown",
   "metadata": {},
   "source": [
    "Mean center and scale and impute missing values to 0"
   ]
  },
  {
   "cell_type": "code",
   "execution_count": 23,
   "metadata": {},
   "outputs": [],
   "source": [
    "Z = Y[snp_idx, :]\n",
    "\n",
    "# mean genotype \n",
    "mu = np.nanmean(Z, axis=1).reshape(len(snp_idx), 1)\n",
    "\n",
    "# empirical std deviation\n",
    "std = np.nanstd(Z, axis=1).reshape(len(snp_idx), 1)\n",
    "\n",
    "# heterozygosity scaler\n",
    "het = np.sqrt(2. * f[snp_idx] * (1. - f[snp_idx])).reshape(len(snp_idx), 1)\n",
    "\n",
    "Z = (Z - mu) / het\n",
    "Z[np.isnan(Z)] = 0.0"
   ]
  },
  {
   "cell_type": "code",
   "execution_count": 26,
   "metadata": {},
   "outputs": [
    {
     "data": {
      "image/png": "[encoded data removed]",
      "text/plain": [
       "<Figure size 432x288 with 1 Axes>"
      ]
     },
     "metadata": {},
     "output_type": "display_data"
    }
   ],
   "source": [
    "plt.scatter(het, std);\n",
    "plt.xlabel(\"Het Scaler\");\n",
    "plt.ylabel(\"Emprical Std\");"
   ]
  },
  {
   "cell_type": "markdown",
   "metadata": {},
   "source": [
    "# PCA"
   ]
  },
  {
   "cell_type": "code",
   "execution_count": 28,
   "metadata": {},
   "outputs": [
    {
     "name": "stdout",
     "output_type": "stream",
     "text": [
      "CPU times: user 22.7 s, sys: 979 ms, total: 23.7 s\n",
      "Wall time: 852 ms\n"
     ]
    }
   ],
   "source": [
    "%%time\n",
    "k = 5\n",
    "cor = pcshrink.ShrinkageCorrector(Z, k)"
   ]
  },
  {
   "cell_type": "code",
   "execution_count": 29,
   "metadata": {},
   "outputs": [
    {
     "data": {
      "image/png": "[encoded data removed]",
      "text/plain": [
       "<Figure size 432x288 with 1 Axes>"
      ]
     },
     "metadata": {},
     "output_type": "display_data"
    }
   ],
   "source": [
    "plt.scatter(cor.L[:,0], cor.L[:,1])\n",
    "plt.xlabel(\"PC1\");\n",
    "plt.ylabel(\"PC2\");"
   ]
  },
  {
   "cell_type": "code",
   "execution_count": 30,
   "metadata": {},
   "outputs": [
    {
     "name": "stdout",
     "output_type": "stream",
     "text": [
      "holding out sample 0\n",
      "holding out sample 2\n",
      "holding out sample 4\n",
      "holding out sample 6\n",
      "holding out sample 8\n",
      "holding out sample 10\n",
      "holding out sample 12\n",
      "holding out sample 14\n",
      "holding out sample 16\n",
      "holding out sample 18\n",
      "holding out sample 20\n",
      "holding out sample 22\n",
      "holding out sample 24\n",
      "holding out sample 26\n",
      "holding out sample 28\n",
      "holding out sample 30\n",
      "holding out sample 32\n",
      "holding out sample 34\n",
      "holding out sample 36\n",
      "holding out sample 38\n",
      "holding out sample 40\n",
      "holding out sample 42\n",
      "holding out sample 44\n",
      "holding out sample 46\n",
      "holding out sample 48\n",
      "holding out sample 50\n",
      "holding out sample 52\n",
      "holding out sample 54\n",
      "holding out sample 56\n",
      "holding out sample 58\n",
      "holding out sample 60\n",
      "holding out sample 62\n",
      "holding out sample 64\n",
      "holding out sample 66\n",
      "holding out sample 68\n",
      "holding out sample 70\n",
      "holding out sample 72\n",
      "holding out sample 74\n",
      "holding out sample 76\n",
      "holding out sample 78\n",
      "holding out sample 80\n",
      "holding out sample 82\n",
      "holding out sample 84\n",
      "holding out sample 86\n",
      "holding out sample 88\n",
      "holding out sample 90\n",
      "holding out sample 92\n",
      "holding out sample 94\n",
      "holding out sample 96\n",
      "holding out sample 98\n",
      "holding out sample 100\n",
      "holding out sample 102\n",
      "holding out sample 104\n",
      "holding out sample 106\n",
      "holding out sample 108\n",
      "holding out sample 110\n",
      "holding out sample 112\n",
      "holding out sample 114\n",
      "holding out sample 116\n",
      "holding out sample 118\n",
      "holding out sample 120\n",
      "holding out sample 122\n",
      "holding out sample 124\n",
      "holding out sample 126\n",
      "holding out sample 128\n",
      "holding out sample 130\n",
      "holding out sample 132\n",
      "holding out sample 134\n",
      "holding out sample 136\n",
      "holding out sample 138\n",
      "holding out sample 140\n",
      "holding out sample 142\n",
      "holding out sample 144\n",
      "holding out sample 146\n",
      "holding out sample 148\n",
      "holding out sample 150\n",
      "holding out sample 152\n",
      "holding out sample 154\n",
      "holding out sample 156\n",
      "holding out sample 158\n",
      "holding out sample 160\n",
      "holding out sample 162\n",
      "holding out sample 164\n",
      "holding out sample 166\n",
      "holding out sample 168\n",
      "holding out sample 170\n",
      "holding out sample 172\n",
      "holding out sample 174\n",
      "holding out sample 176\n",
      "holding out sample 178\n",
      "holding out sample 180\n",
      "holding out sample 182\n",
      "holding out sample 184\n",
      "holding out sample 186\n",
      "holding out sample 188\n",
      "holding out sample 190\n",
      "holding out sample 192\n",
      "holding out sample 194\n",
      "holding out sample 196\n",
      "holding out sample 198\n",
      "holding out sample 200\n",
      "holding out sample 202\n",
      "holding out sample 204\n",
      "holding out sample 206\n",
      "holding out sample 208\n",
      "holding out sample 210\n",
      "holding out sample 212\n",
      "holding out sample 214\n",
      "holding out sample 216\n",
      "holding out sample 218\n",
      "holding out sample 220\n",
      "holding out sample 222\n",
      "holding out sample 224\n",
      "holding out sample 226\n",
      "holding out sample 228\n",
      "holding out sample 230\n",
      "holding out sample 232\n",
      "holding out sample 234\n",
      "holding out sample 236\n",
      "holding out sample 238\n",
      "holding out sample 240\n",
      "holding out sample 242\n",
      "holding out sample 244\n",
      "holding out sample 246\n",
      "holding out sample 248\n",
      "holding out sample 250\n",
      "holding out sample 252\n",
      "holding out sample 254\n",
      "holding out sample 256\n",
      "holding out sample 258\n",
      "holding out sample 260\n",
      "holding out sample 262\n",
      "holding out sample 264\n",
      "holding out sample 266\n",
      "holding out sample 268\n",
      "holding out sample 270\n",
      "holding out sample 272\n",
      "holding out sample 274\n",
      "holding out sample 276\n",
      "holding out sample 278\n",
      "holding out sample 280\n",
      "holding out sample 282\n",
      "holding out sample 284\n",
      "holding out sample 286\n",
      "holding out sample 288\n",
      "holding out sample 290\n",
      "holding out sample 292\n",
      "holding out sample 294\n",
      "holding out sample 296\n",
      "holding out sample 298\n",
      "holding out sample 300\n",
      "holding out sample 302\n",
      "holding out sample 304\n",
      "holding out sample 306\n",
      "holding out sample 308\n",
      "holding out sample 310\n",
      "holding out sample 312\n",
      "holding out sample 314\n",
      "holding out sample 316\n",
      "holding out sample 318\n",
      "holding out sample 320\n",
      "holding out sample 322\n",
      "holding out sample 324\n",
      "holding out sample 326\n",
      "holding out sample 328\n",
      "holding out sample 330\n",
      "holding out sample 332\n",
      "holding out sample 334\n",
      "holding out sample 336\n",
      "holding out sample 338\n",
      "holding out sample 340\n",
      "holding out sample 342\n",
      "holding out sample 344\n",
      "holding out sample 346\n",
      "holding out sample 348\n",
      "holding out sample 350\n",
      "holding out sample 352\n",
      "holding out sample 354\n",
      "holding out sample 356\n",
      "holding out sample 358\n",
      "holding out sample 360\n",
      "holding out sample 362\n",
      "holding out sample 364\n",
      "holding out sample 366\n",
      "holding out sample 368\n",
      "holding out sample 370\n",
      "holding out sample 372\n",
      "holding out sample 374\n",
      "holding out sample 376\n",
      "holding out sample 378\n",
      "holding out sample 380\n",
      "holding out sample 382\n",
      "holding out sample 384\n",
      "holding out sample 386\n",
      "holding out sample 388\n",
      "holding out sample 390\n",
      "holding out sample 392\n",
      "holding out sample 394\n",
      "holding out sample 396\n",
      "holding out sample 398\n",
      "holding out sample 400\n",
      "holding out sample 402\n",
      "holding out sample 404\n",
      "holding out sample 406\n",
      "holding out sample 408\n",
      "holding out sample 410\n",
      "holding out sample 412\n",
      "holding out sample 414\n",
      "holding out sample 416\n",
      "holding out sample 418\n",
      "holding out sample 420\n",
      "holding out sample 422\n",
      "holding out sample 424\n",
      "holding out sample 426\n",
      "holding out sample 428\n",
      "holding out sample 430\n",
      "holding out sample 432\n",
      "holding out sample 434\n",
      "holding out sample 436\n",
      "holding out sample 438\n",
      "holding out sample 440\n",
      "holding out sample 442\n",
      "holding out sample 444\n",
      "holding out sample 446\n",
      "holding out sample 448\n",
      "holding out sample 450\n",
      "holding out sample 452\n",
      "holding out sample 454\n",
      "holding out sample 456\n",
      "holding out sample 458\n",
      "holding out sample 460\n",
      "holding out sample 462\n",
      "holding out sample 464\n",
      "holding out sample 466\n",
      "holding out sample 468\n",
      "holding out sample 470\n",
      "holding out sample 472\n",
      "holding out sample 474\n",
      "holding out sample 476\n",
      "holding out sample 478\n",
      "holding out sample 480\n",
      "holding out sample 482\n",
      "holding out sample 484\n",
      "holding out sample 486\n",
      "holding out sample 488\n",
      "holding out sample 490\n",
      "holding out sample 492\n",
      "holding out sample 494\n",
      "holding out sample 496\n",
      "holding out sample 498\n",
      "holding out sample 500\n",
      "holding out sample 502\n",
      "holding out sample 504\n",
      "holding out sample 506\n",
      "holding out sample 508\n",
      "holding out sample 510\n",
      "holding out sample 512\n",
      "holding out sample 514\n",
      "holding out sample 516\n",
      "holding out sample 518\n",
      "holding out sample 520\n",
      "holding out sample 522\n",
      "holding out sample 524\n",
      "holding out sample 526\n",
      "holding out sample 528\n",
      "holding out sample 530\n",
      "holding out sample 532\n",
      "holding out sample 534\n",
      "holding out sample 536\n",
      "holding out sample 538\n",
      "holding out sample 540\n",
      "holding out sample 542\n",
      "holding out sample 544\n",
      "holding out sample 546\n",
      "holding out sample 548\n",
      "holding out sample 550\n",
      "holding out sample 552\n",
      "holding out sample 554\n",
      "holding out sample 556\n",
      "holding out sample 558\n",
      "holding out sample 560\n",
      "holding out sample 562\n",
      "holding out sample 564\n",
      "holding out sample 566\n",
      "holding out sample 568\n",
      "holding out sample 570\n",
      "holding out sample 572\n",
      "holding out sample 574\n",
      "holding out sample 576\n",
      "holding out sample 578\n",
      "holding out sample 580\n",
      "holding out sample 582\n",
      "holding out sample 584\n",
      "holding out sample 586\n",
      "holding out sample 588\n",
      "holding out sample 590\n",
      "holding out sample 592\n",
      "holding out sample 594\n",
      "holding out sample 596\n",
      "holding out sample 598\n",
      "holding out sample 600\n",
      "holding out sample 602\n",
      "holding out sample 604\n",
      "holding out sample 606\n",
      "holding out sample 608\n",
      "holding out sample 610\n",
      "holding out sample 612\n",
      "holding out sample 614\n",
      "holding out sample 616\n",
      "holding out sample 618\n",
      "holding out sample 620\n",
      "holding out sample 622\n",
      "holding out sample 624\n",
      "holding out sample 626\n",
      "holding out sample 628\n",
      "holding out sample 630\n",
      "holding out sample 632\n",
      "holding out sample 634\n",
      "holding out sample 636\n",
      "holding out sample 638\n",
      "holding out sample 640\n",
      "holding out sample 642\n",
      "holding out sample 644\n",
      "holding out sample 646\n",
      "holding out sample 648\n",
      "holding out sample 650\n",
      "holding out sample 652\n",
      "holding out sample 654\n",
      "holding out sample 656\n",
      "holding out sample 658\n",
      "holding out sample 660\n",
      "holding out sample 662\n",
      "holding out sample 664\n",
      "holding out sample 666\n",
      "holding out sample 668\n",
      "holding out sample 670\n",
      "holding out sample 672\n",
      "holding out sample 674\n",
      "holding out sample 676\n",
      "holding out sample 678\n",
      "holding out sample 680\n",
      "holding out sample 682\n",
      "holding out sample 684\n",
      "holding out sample 686\n",
      "holding out sample 688\n",
      "holding out sample 690\n",
      "holding out sample 692\n",
      "holding out sample 694\n",
      "holding out sample 696\n",
      "holding out sample 698\n",
      "holding out sample 700\n",
      "holding out sample 702\n",
      "holding out sample 704\n",
      "holding out sample 706\n",
      "holding out sample 708\n",
      "holding out sample 710\n",
      "holding out sample 712\n",
      "holding out sample 714\n",
      "holding out sample 716\n",
      "holding out sample 718\n",
      "holding out sample 720\n",
      "holding out sample 722\n",
      "holding out sample 724\n",
      "holding out sample 726\n",
      "holding out sample 728\n",
      "holding out sample 730\n",
      "holding out sample 732\n",
      "holding out sample 734\n",
      "holding out sample 736\n",
      "holding out sample 738\n",
      "holding out sample 740\n",
      "holding out sample 742\n",
      "holding out sample 744\n",
      "holding out sample 746\n",
      "holding out sample 748\n",
      "holding out sample 750\n",
      "holding out sample 752\n",
      "holding out sample 754\n",
      "holding out sample 756\n",
      "holding out sample 758\n",
      "holding out sample 760\n",
      "holding out sample 762\n",
      "holding out sample 764\n",
      "holding out sample 766\n",
      "holding out sample 768\n",
      "holding out sample 770\n",
      "holding out sample 772\n",
      "holding out sample 774\n",
      "holding out sample 776\n",
      "CPU times: user 15h 37min 45s, sys: 29min 7s, total: 16h 6min 53s\n",
      "Wall time: 1h 11min 26s\n"
     ]
    }
   ],
   "source": [
    "%%time\n",
    "cor.jackknife(q=5, o=2)"
   ]
  },
  {
   "cell_type": "code",
   "execution_count": 31,
   "metadata": {},
   "outputs": [
    {
     "data": {
      "text/plain": [
       "(777,)"
      ]
     },
     "execution_count": 31,
     "metadata": {},
     "output_type": "execute_result"
    },
    {
     "data": {
      "image/png": "[encoded data removed]",
      "text/plain": [
       "<Figure size 432x288 with 1 Axes>"
      ]
     },
     "metadata": {},
     "output_type": "display_data"
    }
   ],
   "source": [
    "plt.scatter(cor.L[:, 0], cor.L_shrunk[:, 0])\n",
    "cor.L_shrunk[:, 0].shape\n",
    "cor.L[:, 0].shape"
   ]
  },
  {
   "cell_type": "code",
   "execution_count": 32,
   "metadata": {},
   "outputs": [
    {
     "data": {
      "text/plain": [
       "array([[1.15589363]])"
      ]
     },
     "execution_count": 32,
     "metadata": {},
     "output_type": "execute_result"
    }
   ],
   "source": [
    "from sklearn import linear_model\n",
    "regr = linear_model.LinearRegression(fit_intercept=False, normalize=False)\n",
    "regr.fit(cor.L_shrunk[:,0].reshape(n, 1), cor.L[:, 0].reshape(n, 1))\n",
    "regr.coef_"
   ]
  },
  {
   "cell_type": "code",
   "execution_count": 40,
   "metadata": {},
   "outputs": [
    {
     "data": {
      "text/plain": [
       "Text(0,0.5,'PC2')"
      ]
     },
     "execution_count": 40,
     "metadata": {},
     "output_type": "execute_result"
    },
    {
     "data": {
      "image/png": "[encoded data removed]",
      "text/plain": [
       "<Figure size 432x288 with 1 Axes>"
      ]
     },
     "metadata": {},
     "output_type": "display_data"
    }
   ],
   "source": [
    "plt.scatter(cor.L[:, 0], -cor.L[:, 1], color=\"black\")\n",
    "plt.scatter(cor.L_shrunk[:, 0], -cor.L_shrunk[:, 1], color=\"blue\")\n",
    "plt.xlabel(\"PC1\")\n",
    "plt.ylabel(\"PC2\")"
   ]
  },
  {
   "cell_type": "code",
   "execution_count": 37,
   "metadata": {},
   "outputs": [
    {
     "data": {
      "image/png": "[encoded data removed]",
      "text/plain": [
       "<Figure size 864x576 with 1 Axes>"
      ]
     },
     "metadata": {},
     "output_type": "display_data"
    }
   ],
   "source": [
    "plt.figure(figsize=(12, 8))\n",
    "plt.scatter(cor.L[:, 0], -cor.L[:, 1], label=\"full\")\n",
    "plt.scatter(cor.L_shrunk[:, 0], -cor.L_shrunk[:, 1], label=\"projected\")\n",
    "plt.scatter(cor.tau[0] * cor.L_shrunk[:, 0], -cor.tau[1] * cor.L_shrunk[:, 1], label=\"corrected\")\n",
    "plt.legend()\n",
    "plt.xlabel(\"PC1\");\n",
    "plt.ylabel(\"PC2\");"
   ]
  },
  {
   "cell_type": "markdown",
   "metadata": {},
   "source": [
    "---"
   ]
  },
  {
   "cell_type": "code",
   "execution_count": null,
   "metadata": {},
   "outputs": [],
   "source": [
    "plt.figure(figsize=(10, 8))\n",
    "plt.quiver(L[:,0], \n",
    "           -L[:, 1], \n",
    "           L_[:, 0] - L[:,0],\n",
    "           -(L_[:, 1] - L[:, 1]), headwidth=2)\n",
    "\n",
    "plt.xlabel(\"PC1\");\n",
    "plt.ylabel(\"PC2\");\n",
    "plt.ylim()\n",
    "plt.autoscale()\n"
   ]
  },
  {
   "cell_type": "markdown",
   "metadata": {},
   "source": [
    "Plot PC1 vs PC2"
   ]
  },
  {
   "cell_type": "code",
   "execution_count": null,
   "metadata": {},
   "outputs": [],
   "source": [
    "%%time\n",
    "\n",
    "K = 10\n",
    "q = data.n\n",
    "L_proj = np.empty((q, K))\n",
    "\n",
    "for i in range(q):\n",
    "    \n",
    "    print(i)\n",
    "    \n",
    "    idx = np.ones(data.n, dtype=\"bool\")\n",
    "    idx[i] = False\n",
    "    \n",
    "    z = Z[:, i]\n",
    "    Z_train = Z[:, idx]\n",
    "    \n",
    "    L_proj[i, :] = holdout_pca(z, Z_train, K)\n",
    "    \n",
    "#np.save(\"data/L_proj\", L_proj)"
   ]
  },
  {
   "cell_type": "code",
   "execution_count": null,
   "metadata": {},
   "outputs": [],
   "source": [
    "#L_proj = L_proj / np.linalg.norm(L_proj, axis=0, ord=2)"
   ]
  },
  {
   "cell_type": "code",
   "execution_count": null,
   "metadata": {},
   "outputs": [],
   "source": [
    "plt.scatter(L[:, 0], -L[:,1])"
   ]
  },
  {
   "cell_type": "code",
   "execution_count": null,
   "metadata": {},
   "outputs": [],
   "source": [
    "plt.scatter(L_proj[:, 0], -L_proj[:, 1])"
   ]
  },
  {
   "cell_type": "code",
   "execution_count": null,
   "metadata": {},
   "outputs": [],
   "source": [
    "plt.figure(figsize=(12, 8))\n",
    "#plt.quiver(L_proj[0,0], -L_proj[0,1], L[0,0], -L[0,1],)\n",
    "plt.quiver(L[:,0], -L[:,1], L_proj[:,0]-L[:,0], -(L_proj[:,1]-L[:,1]))\n",
    "\n",
    "plt.xlabel(\"PC1\");\n",
    "plt.ylabel(\"PC2\");\n",
    "plt.tight_layout()"
   ]
  },
  {
   "cell_type": "code",
   "execution_count": null,
   "metadata": {},
   "outputs": [],
   "source": [
    "#plt.quiver(X=L[:,0], Y=-L[:,1], U=L_proj[:,0], V=-L_proj[:,1])\n",
    "#plt.xlabel(\"PC1\");\n",
    "#plt.ylabel(\"PC2\");\n",
    "\n",
    "lines = []\n",
    "for i in range(L.shape[0]):\n",
    "    lines.append([(L[i, 0], -L[i, 1]), (L_proj[i, 0], -L_proj[i, 1])])\n",
    "    \n",
    "lc = mc.LineCollection(lines, linewidths=2, colors=\"black\")\n",
    "fig, ax = plt.subplots(figsize=(12, 8))\n",
    "ax.add_collection(lc)\n",
    "ax.autoscale()\n",
    "\n",
    "plt.xlabel(\"PC1\")\n",
    "plt.ylabel(\"PC2\")"
   ]
  },
  {
   "cell_type": "code",
   "execution_count": null,
   "metadata": {},
   "outputs": [],
   "source": [
    "np.random.choice(Z.shape[0], 10, replace=False)"
   ]
  },
  {
   "cell_type": "code",
   "execution_count": null,
   "metadata": {},
   "outputs": [],
   "source": [
    "np.arange(10)"
   ]
  },
  {
   "cell_type": "code",
   "execution_count": null,
   "metadata": {},
   "outputs": [],
   "source": []
  }
 ],
 "metadata": {
  "kernelspec": {
   "display_name": "Python 3",
   "language": "python",
   "name": "python3"
  },
  "language_info": {
   "codemirror_mode": {
    "name": "ipython",
    "version": 3
   },
   "file_extension": ".py",
   "mimetype": "text/x-python",
   "name": "python",
   "nbconvert_exporter": "python",
   "pygments_lexer": "ipython3",
   "version": "3.6.6"
  }
 },
 "nbformat": 4,
 "nbformat_minor": 2
}
