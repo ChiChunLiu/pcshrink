{
 "cells": [
  {
   "cell_type": "markdown",
   "metadata": {},
   "source": [
    "*A notebook on a shrinkage correction approach where we just run PCA holding 1 single sample at a time for every sample ...*"
   ]
  },
  {
   "cell_type": "markdown",
   "metadata": {},
   "source": [
    "# Imports"
   ]
  },
  {
   "cell_type": "code",
   "execution_count": 3,
   "metadata": {},
   "outputs": [],
   "source": [
    "import numpy as np\n",
    "import matplotlib.pyplot as plt\n",
    "from matplotlib import collections as mc\n",
    "import pandas as pd\n",
    "\n",
    "import pcshrink"
   ]
  },
  {
   "cell_type": "markdown",
   "metadata": {},
   "source": [
    "# Data prep"
   ]
  },
  {
   "cell_type": "markdown",
   "metadata": {},
   "source": [
    "Read in the human origins west eurasian data"
   ]
  },
  {
   "cell_type": "code",
   "execution_count": 4,
   "metadata": {},
   "outputs": [
    {
     "name": "stdout",
     "output_type": "stream",
     "text": [
      "CPU times: user 7.83 s, sys: 2.43 s, total: 10.3 s\n",
      "Wall time: 8.1 s\n"
     ]
    }
   ],
   "source": [
    "%%time\n",
    "data = pcshrink.UnpackedAncestryMap(\"/project/jnovembre/jhmarcus/ancient-sardinia/data/ref_genotypes/7-11-2018/lazaridis_2014/data_fil\")"
   ]
  },
  {
   "cell_type": "markdown",
   "metadata": {},
   "source": [
    "extract a subset just for experimentation"
   ]
  },
  {
   "cell_type": "code",
   "execution_count": 27,
   "metadata": {},
   "outputs": [],
   "source": [
    "clst_str = \"\"\"HGDP01062   F   Sardinian\n",
    "HGDP01063   M   Sardinian\n",
    "HGDP01064   F   Sardinian\n",
    "HGDP01065   F   Sardinian\n",
    "HGDP01066   M   Sardinian\n",
    "HGDP01067   M   Sardinian\n",
    "HGDP01068   F   Sardinian\n",
    "HGDP01069   M   Sardinian\n",
    "HGDP01070   F   Sardinian\n",
    "HGDP01071   M   Sardinian\n",
    "HGDP01072   F   Sardinian\n",
    "HGDP01073   M   Sardinian\n",
    "HGDP01074   F   Sardinian\n",
    "HGDP01075   M   Sardinian\n",
    "HGDP01076   M   Sardinian\n",
    "HGDP01077   M   Sardinian\n",
    "HGDP01078   F   Sardinian\n",
    "HGDP01079   M   Sardinian\n",
    "HGDP01381   F   Adygei\n",
    "HGDP01382   F   Adygei\n",
    "HGDP01383   M   Adygei\n",
    "HGDP01385   M   Adygei\n",
    "HGDP01386   F   Adygei\n",
    "HGDP01387   F   Adygei\n",
    "HGDP01396   M   Adygei\n",
    "HGDP01397   M   Adygei\n",
    "HGDP01398   F   Adygei\n",
    "HGDP01399   F   Adygei\n",
    "HGDP01400   F   Adygei\n",
    "HGDP01401   F   Adygei\n",
    "HGDP01402   M   Adygei\n",
    "HGDP01403   M   Adygei\n",
    "HGDP01404   M   Adygei\n",
    "HGDP00511   M   French\n",
    "HGDP00512   M   French\n",
    "HGDP00513   F   French\n",
    "HGDP00514   F   French\n",
    "HGDP00515   M   French\n",
    "HGDP00516   F   French\n",
    "HGDP00517   F   French\n",
    "HGDP00518   M   French\n",
    "HGDP00519   M   French\n",
    "HGDP00522   M   French\n",
    "HGDP00523   F   French\n",
    "HGDP00524   F   French\n",
    "HGDP00525   M   French\n",
    "HGDP00526   F   French\n",
    "HGDP00527   F   French\n",
    "HGDP00528   M   French\n",
    "HGDP00529   F   French\n",
    "HGDP00531   F   French\n",
    "HGDP00533   M   French\n",
    "HGDP00534   F   French\n",
    "HGDP00535   F   French\n",
    "HGDP00536   F   French\n",
    "HGDP00537   F   French\n",
    "HGDP00538   M   French\n",
    "HGDP00539   F   French\"\"\"\n"
   ]
  },
  {
   "cell_type": "code",
   "execution_count": 28,
   "metadata": {},
   "outputs": [
    {
     "name": "stderr",
     "output_type": "stream",
     "text": [
      "/project/jnovembre/jhmarcus/src/miniconda3/envs/pcshrink_env/lib/python3.6/site-packages/ipykernel_launcher.py:50: FutureWarning: Method .as_matrix will be removed in a future version. Use .values instead.\n"
     ]
    }
   ],
   "source": [
    "clst_str = \"\"\"HGDP01062   F   Sardinian\n",
    "HGDP01063   M   Sardinian\n",
    "HGDP01064   F   Sardinian\n",
    "HGDP01065   F   Sardinian\n",
    "HGDP01066   M   Sardinian\n",
    "HGDP01067   M   Sardinian\n",
    "HGDP01068   F   Sardinian\n",
    "HGDP01069   M   Sardinian\n",
    "HGDP01070   F   Sardinian\n",
    "HGDP01071   M   Sardinian\n",
    "HGDP01072   F   Sardinian\n",
    "HGDP01073   M   Sardinian\n",
    "HGDP01074   F   Sardinian\n",
    "HGDP01075   M   Sardinian\n",
    "HGDP01076   M   Sardinian\n",
    "HGDP01077   M   Sardinian\n",
    "HGDP01078   F   Sardinian\n",
    "HGDP01079   M   Sardinian\n",
    "HGDP01381   F   Adygei\n",
    "HGDP01382   F   Adygei\n",
    "HGDP01383   M   Adygei\n",
    "HGDP01385   M   Adygei\n",
    "HGDP01386   F   Adygei\n",
    "HGDP01387   F   Adygei\n",
    "HGDP01396   M   Adygei\n",
    "HGDP01397   M   Adygei\n",
    "HGDP01398   F   Adygei\n",
    "HGDP01399   F   Adygei\n",
    "HGDP01400   F   Adygei\n",
    "HGDP01401   F   Adygei\n",
    "HGDP01402   M   Adygei\n",
    "HGDP01403   M   Adygei\n",
    "HGDP01404   M   Adygei\n",
    "HGDP00511   M   French\n",
    "HGDP00512   M   French\n",
    "HGDP00513   F   French\n",
    "HGDP00514   F   French\n",
    "HGDP00515   M   French\n",
    "\"\"\"\n",
    "\n",
    "\n",
    "clsts = list(map(lambda x: x.split('   '), clst_str.split(\"\\n\")))\n",
    "clst_df = pd.DataFrame(clsts)\n",
    "clst_df.columns = [\"iid\", \"sex\", \"clst\"]\n",
    "\n",
    "ind_df = pd.DataFrame({\"iid\": data.inds})\n",
    "ind_df\n",
    "\n",
    "mrg_df = ind_df.reset_index().merge(clst_df, how=\"inner\", on=\"iid\")\n",
    "idx = mrg_df[\"index\"].as_matrix()"
   ]
  },
  {
   "cell_type": "code",
   "execution_count": 2,
   "metadata": {},
   "outputs": [
    {
     "ename": "NameError",
     "evalue": "name 'data' is not defined",
     "output_type": "error",
     "traceback": [
      "\u001b[0;31m---------------------------------------------------------------------------\u001b[0m",
      "\u001b[0;31mNameError\u001b[0m                                 Traceback (most recent call last)",
      "\u001b[0;32m<ipython-input-2-806c07fe6e78>\u001b[0m in \u001b[0;36m<module>\u001b[0;34m()\u001b[0m\n\u001b[0;32m----> 1\u001b[0;31m \u001b[0mY\u001b[0m \u001b[0;34m=\u001b[0m \u001b[0mdata\u001b[0m\u001b[0;34m.\u001b[0m\u001b[0mY\u001b[0m\u001b[0;34m[\u001b[0m\u001b[0;34m:\u001b[0m\u001b[0;34m,\u001b[0m \u001b[0midx\u001b[0m\u001b[0;34m]\u001b[0m\u001b[0;34m\u001b[0m\u001b[0m\n\u001b[0m\u001b[1;32m      2\u001b[0m \u001b[0;31m#Y = data.Y\u001b[0m\u001b[0;34m\u001b[0m\u001b[0;34m\u001b[0m\u001b[0m\n\u001b[1;32m      3\u001b[0m \u001b[0mp\u001b[0m\u001b[0;34m,\u001b[0m \u001b[0mn\u001b[0m \u001b[0;34m=\u001b[0m \u001b[0mY\u001b[0m\u001b[0;34m.\u001b[0m\u001b[0mshape\u001b[0m\u001b[0;34m\u001b[0m\u001b[0m\n\u001b[1;32m      4\u001b[0m \u001b[0mprint\u001b[0m\u001b[0;34m(\u001b[0m\u001b[0mp\u001b[0m\u001b[0;34m,\u001b[0m \u001b[0mn\u001b[0m\u001b[0;34m)\u001b[0m\u001b[0;34m\u001b[0m\u001b[0m\n",
      "\u001b[0;31mNameError\u001b[0m: name 'data' is not defined"
     ]
    }
   ],
   "source": [
    "Y = data.Y[:, idx]\n",
    "#Y = data.Y\n",
    "p, n = Y.shape\n",
    "print(p, n)"
   ]
  },
  {
   "cell_type": "markdown",
   "metadata": {},
   "source": [
    "Find snps that are too rare or too common"
   ]
  },
  {
   "cell_type": "code",
   "execution_count": 30,
   "metadata": {},
   "outputs": [
    {
     "name": "stdout",
     "output_type": "stream",
     "text": [
      "(594924,) (440145,)\n"
     ]
    }
   ],
   "source": [
    "# use allele frequency estimator from Price et al. 2006\n",
    "f = (1. + np.nansum(Y, axis=1)) / (2 + (2. * n))\n",
    "\n",
    "# keep snps that aren't too rare or common\n",
    "snp_idx = np.where((f > .02) & (f < .98))[0]\n",
    "print(f.shape, snp_idx.shape)"
   ]
  },
  {
   "cell_type": "markdown",
   "metadata": {},
   "source": [
    "Mean center and scale and impute missing values to 0"
   ]
  },
  {
   "cell_type": "code",
   "execution_count": 31,
   "metadata": {},
   "outputs": [
    {
     "name": "stderr",
     "output_type": "stream",
     "text": [
      "/project/jnovembre/jhmarcus/src/miniconda3/envs/pcshrink_env/lib/python3.6/site-packages/numpy/lib/nanfunctions.py:1436: RuntimeWarning: invalid value encountered in sqrt\n",
      "  std = np.sqrt(var, out=var)\n"
     ]
    }
   ],
   "source": [
    "Z = Y[snp_idx, :]\n",
    "\n",
    "# mean genotype \n",
    "mu = np.nanmean(Z, axis=1).reshape(len(snp_idx), 1)\n",
    "\n",
    "# empirical std deviation\n",
    "std = np.nanstd(Z, axis=1).reshape(len(snp_idx), 1)\n",
    "\n",
    "# heterozygosity scaler\n",
    "het = np.sqrt(2. * f[snp_idx] * (1. - f[snp_idx])).reshape(len(snp_idx), 1)\n",
    "\n",
    "Z = (Z - mu) / het\n",
    "Z[np.isnan(Z)] = 0.0"
   ]
  },
  {
   "cell_type": "code",
   "execution_count": 32,
   "metadata": {},
   "outputs": [
    {
     "data": {
      "image/png": "[encoded data removed]",
      "text/plain": [
       "<Figure size 432x288 with 1 Axes>"
      ]
     },
     "metadata": {},
     "output_type": "display_data"
    }
   ],
   "source": [
    "plt.scatter(het, std);\n",
    "plt.xlabel(\"Het Scaler\");\n",
    "plt.ylabel(\"Emprical Std\");"
   ]
  },
  {
   "cell_type": "markdown",
   "metadata": {},
   "source": [
    "# PCA"
   ]
  },
  {
   "cell_type": "code",
   "execution_count": null,
   "metadata": {},
   "outputs": [],
   "source": []
  },
  {
   "cell_type": "code",
   "execution_count": 33,
   "metadata": {},
   "outputs": [
    {
     "name": "stdout",
     "output_type": "stream",
     "text": [
      "CPU times: user 3.41 s, sys: 3.51 s, total: 6.92 s\n",
      "Wall time: 387 ms\n"
     ]
    }
   ],
   "source": [
    "%%time\n",
    "k = 5\n",
    "cor = pcshrink.ShrinkageCorrector(Z, k)"
   ]
  },
  {
   "cell_type": "code",
   "execution_count": 34,
   "metadata": {},
   "outputs": [
    {
     "data": {
      "image/png": "[encoded data removed]",
      "text/plain": [
       "<Figure size 432x288 with 1 Axes>"
      ]
     },
     "metadata": {},
     "output_type": "display_data"
    }
   ],
   "source": [
    "plt.scatter(cor.L[:,0], cor.L[:,1])\n",
    "plt.xlabel(\"PC1\");\n",
    "plt.ylabel(\"PC2\");"
   ]
  },
  {
   "cell_type": "code",
   "execution_count": 35,
   "metadata": {},
   "outputs": [
    {
     "name": "stdout",
     "output_type": "stream",
     "text": [
      "holding out sample 0\n",
      "holding out sample 2\n",
      "holding out sample 4\n",
      "holding out sample 6\n",
      "holding out sample 8\n",
      "holding out sample 10\n",
      "holding out sample 12\n",
      "holding out sample 14\n",
      "holding out sample 16\n",
      "holding out sample 18\n",
      "holding out sample 20\n",
      "holding out sample 22\n",
      "holding out sample 24\n",
      "holding out sample 26\n",
      "holding out sample 28\n",
      "holding out sample 30\n",
      "holding out sample 32\n",
      "holding out sample 34\n",
      "holding out sample 36\n",
      "CPU times: user 2min 13s, sys: 1min 54s, total: 4min 7s\n",
      "Wall time: 10.2 s\n"
     ]
    }
   ],
   "source": [
    "%%time\n",
    "cor.jackknife(q=5, o=2)"
   ]
  },
  {
   "cell_type": "code",
   "execution_count": 36,
   "metadata": {},
   "outputs": [
    {
     "data": {
      "text/plain": [
       "(38,)"
      ]
     },
     "execution_count": 36,
     "metadata": {},
     "output_type": "execute_result"
    },
    {
     "data": {
      "image/png": "[encoded data removed]",
      "text/plain": [
       "<Figure size 432x288 with 1 Axes>"
      ]
     },
     "metadata": {},
     "output_type": "display_data"
    }
   ],
   "source": [
    "plt.scatter(cor.L[:, 0], cor.L_shrunk[:, 0])\n",
    "cor.L_shrunk[:, 0].shape\n",
    "cor.L[:, 0].shape"
   ]
  },
  {
   "cell_type": "code",
   "execution_count": 37,
   "metadata": {},
   "outputs": [
    {
     "data": {
      "text/plain": [
       "array([[2.62860595]])"
      ]
     },
     "execution_count": 37,
     "metadata": {},
     "output_type": "execute_result"
    }
   ],
   "source": [
    "from sklearn import linear_model\n",
    "regr = linear_model.LinearRegression(fit_intercept=False, normalize=False)\n",
    "regr.fit(cor.L_shrunk[:,0].reshape(n, 1), cor.L[:, 0].reshape(n, 1))\n",
    "regr.coef_"
   ]
  },
  {
   "cell_type": "code",
   "execution_count": 38,
   "metadata": {},
   "outputs": [
    {
     "data": {
      "text/plain": [
       "Text(0,0.5,'PC2')"
      ]
     },
     "execution_count": 38,
     "metadata": {},
     "output_type": "execute_result"
    },
    {
     "data": {
      "image/png": "[encoded data removed]",
      "text/plain": [
       "<Figure size 432x288 with 1 Axes>"
      ]
     },
     "metadata": {},
     "output_type": "display_data"
    }
   ],
   "source": [
    "plt.scatter(cor.L[:, 0], -cor.L[:, 1], color=\"black\")\n",
    "plt.scatter(cor.L_shrunk[:, 0], -cor.L_shrunk[:, 1], color=\"blue\")\n",
    "plt.xlabel(\"PC1\")\n",
    "plt.ylabel(\"PC2\")"
   ]
  },
  {
   "cell_type": "code",
   "execution_count": 39,
   "metadata": {},
   "outputs": [
    {
     "data": {
      "image/png": "[encoded data removed]",
      "text/plain": [
       "<Figure size 864x576 with 1 Axes>"
      ]
     },
     "metadata": {},
     "output_type": "display_data"
    }
   ],
   "source": [
    "plt.figure(figsize=(12, 8))\n",
    "plt.scatter(cor.L[:, 0], -cor.L[:, 1], label=\"full\")\n",
    "plt.scatter(cor.L_shrunk[:, 0], -cor.L_shrunk[:, 1], label=\"projected\")\n",
    "plt.scatter(cor.tau[0] * cor.L_shrunk[:, 0], -cor.tau[1] * cor.L_shrunk[:, 1], label=\"corrected\")\n",
    "plt.legend()\n",
    "plt.xlabel(\"PC1\");\n",
    "plt.ylabel(\"PC2\");"
   ]
  },
  {
   "cell_type": "markdown",
   "metadata": {},
   "source": [
    "---"
   ]
  },
  {
   "cell_type": "code",
   "execution_count": null,
   "metadata": {},
   "outputs": [],
   "source": [
    "plt.figure(figsize=(10, 8))\n",
    "plt.quiver(L[:,0], \n",
    "           -L[:, 1], \n",
    "           L_[:, 0] - L[:,0],\n",
    "           -(L_[:, 1] - L[:, 1]), headwidth=2)\n",
    "\n",
    "plt.xlabel(\"PC1\");\n",
    "plt.ylabel(\"PC2\");\n",
    "plt.ylim()\n",
    "plt.autoscale()\n"
   ]
  },
  {
   "cell_type": "markdown",
   "metadata": {},
   "source": [
    "Plot PC1 vs PC2"
   ]
  },
  {
   "cell_type": "code",
   "execution_count": null,
   "metadata": {},
   "outputs": [],
   "source": [
    "%%time\n",
    "\n",
    "K = 10\n",
    "q = data.n\n",
    "L_proj = np.empty((q, K))\n",
    "\n",
    "for i in range(q):\n",
    "    \n",
    "    print(i)\n",
    "    \n",
    "    idx = np.ones(data.n, dtype=\"bool\")\n",
    "    idx[i] = False\n",
    "    \n",
    "    z = Z[:, i]\n",
    "    Z_train = Z[:, idx]\n",
    "    \n",
    "    L_proj[i, :] = holdout_pca(z, Z_train, K)\n",
    "    \n",
    "#np.save(\"data/L_proj\", L_proj)"
   ]
  },
  {
   "cell_type": "code",
   "execution_count": null,
   "metadata": {},
   "outputs": [],
   "source": [
    "#L_proj = L_proj / np.linalg.norm(L_proj, axis=0, ord=2)"
   ]
  },
  {
   "cell_type": "code",
   "execution_count": null,
   "metadata": {},
   "outputs": [],
   "source": [
    "plt.scatter(L[:, 0], -L[:,1])"
   ]
  },
  {
   "cell_type": "code",
   "execution_count": null,
   "metadata": {},
   "outputs": [],
   "source": [
    "plt.scatter(L_proj[:, 0], -L_proj[:, 1])"
   ]
  },
  {
   "cell_type": "code",
   "execution_count": null,
   "metadata": {},
   "outputs": [],
   "source": [
    "plt.figure(figsize=(12, 8))\n",
    "#plt.quiver(L_proj[0,0], -L_proj[0,1], L[0,0], -L[0,1],)\n",
    "plt.quiver(L[:,0], -L[:,1], L_proj[:,0]-L[:,0], -(L_proj[:,1]-L[:,1]))\n",
    "\n",
    "plt.xlabel(\"PC1\");\n",
    "plt.ylabel(\"PC2\");\n",
    "plt.tight_layout()"
   ]
  },
  {
   "cell_type": "code",
   "execution_count": null,
   "metadata": {},
   "outputs": [],
   "source": [
    "#plt.quiver(X=L[:,0], Y=-L[:,1], U=L_proj[:,0], V=-L_proj[:,1])\n",
    "#plt.xlabel(\"PC1\");\n",
    "#plt.ylabel(\"PC2\");\n",
    "\n",
    "lines = []\n",
    "for i in range(L.shape[0]):\n",
    "    lines.append([(L[i, 0], -L[i, 1]), (L_proj[i, 0], -L_proj[i, 1])])\n",
    "    \n",
    "lc = mc.LineCollection(lines, linewidths=2, colors=\"black\")\n",
    "fig, ax = plt.subplots(figsize=(12, 8))\n",
    "ax.add_collection(lc)\n",
    "ax.autoscale()\n",
    "\n",
    "plt.xlabel(\"PC1\")\n",
    "plt.ylabel(\"PC2\")"
   ]
  },
  {
   "cell_type": "code",
   "execution_count": null,
   "metadata": {},
   "outputs": [],
   "source": [
    "np.random.choice(Z.shape[0], 10, replace=False)"
   ]
  },
  {
   "cell_type": "code",
   "execution_count": null,
   "metadata": {},
   "outputs": [],
   "source": [
    "np.arange(10)"
   ]
  },
  {
   "cell_type": "code",
   "execution_count": null,
   "metadata": {},
   "outputs": [],
   "source": []
  }
 ],
 "metadata": {
  "kernelspec": {
   "display_name": "Python 3",
   "language": "python",
   "name": "python3"
  },
  "language_info": {
   "codemirror_mode": {
    "name": "ipython",
    "version": 3
   },
   "file_extension": ".py",
   "mimetype": "text/x-python",
   "name": "python",
   "nbconvert_exporter": "python",
   "pygments_lexer": "ipython3",
   "version": "3.6.6"
  }
 },
 "nbformat": 4,
 "nbformat_minor": 2
}
