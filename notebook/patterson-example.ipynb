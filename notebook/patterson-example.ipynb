{
 "cells": [
  {
   "cell_type": "markdown",
   "metadata": {},
   "source": [
    "A demonstration of `pcshrink` on a simple real-data example constructed by Nick Patterson:\n",
    "https://reich.hms.harvard.edu/sites/reich.hms.harvard.edu/files/inline-files/shrinkdemo.tar.gz"
   ]
  },
  {
   "cell_type": "markdown",
   "metadata": {},
   "source": [
    "## Import"
   ]
  },
  {
   "cell_type": "code",
   "execution_count": 1,
   "metadata": {},
   "outputs": [],
   "source": [
    "import numpy as np\n",
    "import pandas as pd\n",
    "import matplotlib.pyplot as plt\n",
    "import seaborn as sns\n",
    "\n",
    "# import the package!\n",
    "import pcshrink\n",
    "\n",
    "plt.style.use(\"seaborn-white\")"
   ]
  },
  {
   "cell_type": "markdown",
   "metadata": {},
   "source": [
    "## Functions"
   ]
  },
  {
   "cell_type": "code",
   "execution_count": 2,
   "metadata": {},
   "outputs": [],
   "source": [
    "def get_genotype_matrix(geno_path, n, p):\n",
    "    \"\"\"Gets the genotype matrix stored as a\n",
    "    numpy array\n",
    "    \"\"\"\n",
    "    # read the geno file\n",
    "    with open(geno_path, \"r\") as f:\n",
    "        matstr = f.read().replace(\"\\n\", \"\")\n",
    "\n",
    "    # convert to long array\n",
    "    ys = np.fromstring(matstr, dtype=np.int8) - 48\n",
    "    \n",
    "    # reshape to p x n matrix\n",
    "    Y = ys.reshape(p, n).astype(np.float32)\n",
    "    \n",
    "    # replace 9s with nans\n",
    "    Y[Y == 9] = np.nan\n",
    "    \n",
    "    return(Y)"
   ]
  },
  {
   "cell_type": "markdown",
   "metadata": {},
   "source": [
    "## Experiment"
   ]
  },
  {
   "cell_type": "markdown",
   "metadata": {},
   "source": [
    "Read the data ..."
   ]
  },
  {
   "cell_type": "code",
   "execution_count": 3,
   "metadata": {},
   "outputs": [
    {
     "name": "stderr",
     "output_type": "stream",
     "text": [
      "/project/jnovembre/jhmarcus/src/miniconda3/envs/pcshrink_e/lib/python3.7/site-packages/ipykernel_launcher.py:10: DeprecationWarning: The binary mode of fromstring is deprecated, as it behaves surprisingly on unicode inputs. Use frombuffer instead\n",
      "  # Remove the CWD from sys.path while we load stuff.\n"
     ]
    },
    {
     "name": "stdout",
     "output_type": "stream",
     "text": [
      "(120631, 60)\n",
      "         ind sex    clst\n",
      "0  HGDP00511   M  French\n",
      "1  HGDP00512   M  French\n",
      "2  HGDP00513   F  French\n",
      "3  HGDP00514   F  French\n",
      "4  HGDP00515   M  French\n",
      "(120083,)\n",
      "             snp  chrom        cm      pos a1 a2\n",
      "0  Affx-15871758      1  0.025727   949654  A  G\n",
      "1   Affx-3979904      1  0.026674  1048955  A  G\n",
      "2   Affx-4572154      1  0.029335  1156131  T  C\n",
      "3   Affx-4575207      1  0.029356  1157547  T  C\n",
      "4   Affx-4584321      1  0.029391  1161780  C  T\n"
     ]
    }
   ],
   "source": [
    "n = 60\n",
    "p = 120631\n",
    "k = 2\n",
    "\n",
    "#### genoty mat ####\n",
    "Y = get_genotype_matrix(\"../data/yfhx.geno\", n=n, p=p)\n",
    "print(Y.shape)\n",
    "\n",
    "#### ind df ####\n",
    "ind_df = pd.read_table(\"../data/yfhx.ind\", sep=\"\\s+\", header=None)\n",
    "ind_df.columns = [\"ind\", \"sex\", \"clst\"]\n",
    "print(ind_df.head())\n",
    "\n",
    "#### snp df ####\n",
    "snp_df = pd.read_table(\"../data/yfhx.snp\", sep=\"\\s+\", header=None)\n",
    "snp_df.columns = [\"snp\", \"chrom\", \"cm\", \"pos\", \"a1\", \"a2\"]\n",
    "\n",
    "# extract idx of all snps on the autosomes\n",
    "auto_idx = snp_df[snp_df[\"chrom\"] <= 22].index\n",
    "print(auto_idx.shape)\n",
    "print(snp_df.head())"
   ]
  },
  {
   "cell_type": "markdown",
   "metadata": {},
   "source": [
    "Split inds into test / train ..."
   ]
  },
  {
   "cell_type": "code",
   "execution_count": 4,
   "metadata": {},
   "outputs": [],
   "source": [
    "# individual idx in the test set\n",
    "test_idx = np.array([x[-1] == \"X\" for x in ind_df[\"clst\"].values])\n",
    "\n",
    "# genotype matricies of train and test individuals\n",
    "Y_train = Y[auto_idx, :][:, ~test_idx]\n",
    "Y_test = Y[auto_idx, :][:, test_idx]\n",
    "\n",
    "ind_train_df = ind_df.iloc[~test_idx]\n",
    "ind_test_df = ind_df.iloc[test_idx]"
   ]
  },
  {
   "cell_type": "markdown",
   "metadata": {},
   "source": [
    "Normalize the data and run intial PCA"
   ]
  },
  {
   "cell_type": "code",
   "execution_count": 5,
   "metadata": {},
   "outputs": [],
   "source": [
    "# center and scale the data\n",
    "norm = pcshrink.Normalizer(Y_train, eps=0.05, scale_type=\"patterson\")\n",
    "\n",
    "# construct the ShrinakgeCorrector\n",
    "pc = pcshrink.ShrinkageCorrector(norm.Y, k=k)\n",
    "L = pc.L"
   ]
  },
  {
   "cell_type": "markdown",
   "metadata": {},
   "source": [
    "Jackknife estimate of the shrinkage correction factor ..."
   ]
  },
  {
   "cell_type": "code",
   "execution_count": 6,
   "metadata": {},
   "outputs": [
    {
     "name": "stdout",
     "output_type": "stream",
     "text": [
      "holding out sample 0\n",
      "holding out sample 5\n",
      "holding out sample 10\n",
      "holding out sample 15\n",
      "holding out sample 20\n",
      "holding out sample 25\n",
      "[1.25870383 1.39923424]\n",
      "CPU times: user 9.06 s, sys: 25.5 s, total: 34.5 s\n",
      "Wall time: 1.23 s\n"
     ]
    }
   ],
   "source": [
    "%%time\n",
    "# use truncated svd for each held-out ind\n",
    "pc.jackknife(downdate=False, o=5)\n",
    "print(pc.tau)"
   ]
  },
  {
   "cell_type": "markdown",
   "metadata": {},
   "source": [
    "Fast rank-1 downdate estimator ..."
   ]
  },
  {
   "cell_type": "code",
   "execution_count": 7,
   "metadata": {},
   "outputs": [
    {
     "name": "stdout",
     "output_type": "stream",
     "text": [
      "holding out sample 0\n",
      "holding out sample 5\n",
      "holding out sample 10\n",
      "holding out sample 15\n",
      "holding out sample 20\n",
      "holding out sample 25\n",
      "[1.25870376 1.39923468]\n",
      "CPU times: user 4.61 s, sys: 11.4 s, total: 16 s\n",
      "Wall time: 573 ms\n"
     ]
    }
   ],
   "source": [
    "%%time\n",
    "# use rank-1 downdate for each held-out ind\n",
    "pc.jackknife(downdate=True, o=5)\n",
    "print(pc.tau)"
   ]
  },
  {
   "cell_type": "markdown",
   "metadata": {},
   "source": [
    "Notice the correction factor $\\tau$ for the 2 PCs are very similar. Lets now wormalize test data with mean and scale of training dataset and project on to training pcs ..."
   ]
  },
  {
   "cell_type": "code",
   "execution_count": 8,
   "metadata": {},
   "outputs": [
    {
     "name": "stdout",
     "output_type": "stream",
     "text": [
      "projecting sample 0\n",
      "projecting sample 10\n",
      "projecting sample 20\n"
     ]
    }
   ],
   "source": [
    "# normalize test genotypes \n",
    "Z_test = (Y_test[norm.snp_idx, :] - norm.mu) / norm.s\n",
    "\n",
    "# corrected projected pc-scores! \n",
    "L_test = pc.lstsq_project(Z_test)"
   ]
  },
  {
   "cell_type": "markdown",
   "metadata": {},
   "source": [
    "Create a DataFrame of results and plot! ..."
   ]
  },
  {
   "cell_type": "code",
   "execution_count": 9,
   "metadata": {},
   "outputs": [
    {
     "data": {
      "text/html": [
       "<div>\n",
       "<style scoped>\n",
       "    .dataframe tbody tr th:only-of-type {\n",
       "        vertical-align: middle;\n",
       "    }\n",
       "\n",
       "    .dataframe tbody tr th {\n",
       "        vertical-align: top;\n",
       "    }\n",
       "\n",
       "    .dataframe thead th {\n",
       "        text-align: right;\n",
       "    }\n",
       "</style>\n",
       "<table border=\"1\" class=\"dataframe\">\n",
       "  <thead>\n",
       "    <tr style=\"text-align: right;\">\n",
       "      <th></th>\n",
       "      <th>PC1</th>\n",
       "      <th>PC2</th>\n",
       "      <th>clst</th>\n",
       "      <th>type</th>\n",
       "    </tr>\n",
       "  </thead>\n",
       "  <tbody>\n",
       "    <tr>\n",
       "      <th>0</th>\n",
       "      <td>-94.166885</td>\n",
       "      <td>160.252182</td>\n",
       "      <td>French</td>\n",
       "      <td>Train</td>\n",
       "    </tr>\n",
       "    <tr>\n",
       "      <th>1</th>\n",
       "      <td>-96.387779</td>\n",
       "      <td>155.526688</td>\n",
       "      <td>French</td>\n",
       "      <td>Train</td>\n",
       "    </tr>\n",
       "    <tr>\n",
       "      <th>2</th>\n",
       "      <td>-94.680557</td>\n",
       "      <td>154.622269</td>\n",
       "      <td>French</td>\n",
       "      <td>Train</td>\n",
       "    </tr>\n",
       "    <tr>\n",
       "      <th>3</th>\n",
       "      <td>-97.370537</td>\n",
       "      <td>158.911804</td>\n",
       "      <td>French</td>\n",
       "      <td>Train</td>\n",
       "    </tr>\n",
       "    <tr>\n",
       "      <th>4</th>\n",
       "      <td>-95.062538</td>\n",
       "      <td>154.481842</td>\n",
       "      <td>French</td>\n",
       "      <td>Train</td>\n",
       "    </tr>\n",
       "  </tbody>\n",
       "</table>\n",
       "</div>"
      ],
      "text/plain": [
       "         PC1         PC2    clst   type\n",
       "0 -94.166885  160.252182  French  Train\n",
       "1 -96.387779  155.526688  French  Train\n",
       "2 -94.680557  154.622269  French  Train\n",
       "3 -97.370537  158.911804  French  Train\n",
       "4 -95.062538  154.481842  French  Train"
      ]
     },
     "execution_count": 9,
     "metadata": {},
     "output_type": "execute_result"
    }
   ],
   "source": [
    "# train data\n",
    "train_df = pd.DataFrame(L)\n",
    "train_df.columns = [\"PC1\", \"PC2\"]\n",
    "train_df[\"clst\"] = ind_train_df[\"clst\"].values\n",
    "train_df[\"type\"] = \"Train\"\n",
    "\n",
    "# \"uncorrected\" test data\n",
    "test_raw_df = pd.DataFrame((1 / pc.tau) * L_test)\n",
    "test_raw_df.columns = [\"PC1\", \"PC2\"]\n",
    "test_raw_df[\"clst\"] = ind_test_df[\"clst\"].apply(lambda x: x.strip(\"X\")).values\n",
    "test_raw_df[\"type\"] = \"Test-Uncorrected\"\n",
    "\n",
    "# \"corrected\" test data\n",
    "test_df = pd.DataFrame(L_test)\n",
    "test_df.columns = [\"PC1\", \"PC2\"]\n",
    "test_df[\"clst\"] = ind_test_df[\"clst\"].apply(lambda x: x.strip(\"X\")).values\n",
    "test_df[\"type\"] = \"Test-Corrected\"\n",
    "\n",
    "pc_df = pd.concat([train_df, test_df, test_raw_df])\n",
    "pc_df.head()"
   ]
  },
  {
   "cell_type": "code",
   "execution_count": 10,
   "metadata": {},
   "outputs": [
    {
     "data": {
      "image/png": "[encoded data removed]",
      "text/plain": [
       "<Figure size 576x576 with 1 Axes>"
      ]
     },
     "metadata": {},
     "output_type": "display_data"
    }
   ],
   "source": [
    "plt.figure(figsize=(8, 8))\n",
    "sns.set(font_scale=1.65) \n",
    "sns.scatterplot(\"PC1\", \"PC2\", data=pc_df, hue=\"clst\", style=\"type\");"
   ]
  },
  {
   "cell_type": "markdown",
   "metadata": {},
   "source": [
    "See `../data/x1s.yfhx.pdf` to compare to Patterson's result. Our correction is possibly not as good for Han but overall is pretty satisfying!"
   ]
  },
  {
   "cell_type": "markdown",
   "metadata": {},
   "source": [
    "## Compare to EigenStrat"
   ]
  },
  {
   "cell_type": "markdown",
   "metadata": {},
   "source": [
    "`TODO: Direct Comparison`"
   ]
  }
 ],
 "metadata": {
  "kernelspec": {
   "display_name": "Python 3",
   "language": "python",
   "name": "python3"
  },
  "language_info": {
   "codemirror_mode": {
    "name": "ipython",
    "version": 3
   },
   "file_extension": ".py",
   "mimetype": "text/x-python",
   "name": "python",
   "nbconvert_exporter": "python",
   "pygments_lexer": "ipython3",
   "version": "3.7.0"
  }
 },
 "nbformat": 4,
 "nbformat_minor": 2
}
